{
 "cells": [
  {
   "cell_type": "markdown",
   "metadata": {},
   "source": [
    "# <center>MC906/MO416 - Introduction to Artificial Intelligence</center>\n",
    "# <center>Institute of Computing - Unicamp</center>\n",
    "# <center>Prof. Esther Colombini</center>\n",
    "\n",
    "### <center>Eduardo S. Ito (RA159086)</center>\n",
    "### <center>Lucas Peres  (RA 265193)</center>\n",
    "### <center>Thales E. Nazatto (RA 074388)</center>"
   ]
  },
  {
   "cell_type": "markdown",
   "metadata": {},
   "source": [
    "# Conteúdo\n",
    "\n",
    "1. Introdução\n",
    "    1. Descrição do problema\n",
    "2. Metodologia\n",
    "    1. Modelagem da solução\n",
    "        1. Requisitos\n",
    "        2. Implementação\n",
    "        3. Problema, agentes e ambiente\n",
    "    2. Algoritmos\n",
    "        1. Busca não-informada\n",
    "        2. Busca informada\n",
    "        3. Busca local (*Hill Climbing*)\n",
    "3. Resultados\n",
    "4. Conclusão\n",
    "5. Referências"
   ]
  },
  {
   "cell_type": "markdown",
   "metadata": {
    "jupyter": {
     "source_hidden": true
    }
   },
   "source": [
    "# Introdução\n",
    "**Pac-man** é um jogo para *Arcades* lançado em 1980 pela **Namco**, criado por Toru Iwatani e ilustrado na Figura 1. Nele, o jogador controla uma bolinha amarela (o *Pac-Man* do título) dentro de um labirinto que tem como objetivo comer todas as bolinhas brancas existentes nele enquanto é perseguido por 4 fantasmas de nomes *Blinky*, *Pinky*, *Inky* e *Clyde*. Na época, Iwatani criou o jogo para atrair pessoas de ambos os sexos, uma vez que os gêneros de jogos lançados nessa época, como jogos de guerra e esportes, eram majoritariamente pensados para agradar o público masculino. Tal estratégia se provou um grande sucesso, e *Pac-Man* se tornou uma das mais lucrativas franquias de todos os tempos, gerando mais de US$ 14 bilhões em receita até o ano de 2016 **[1]**.\n",
    "\n",
    "<img src=\"https://thumbs.web.sapo.io/?W=775&H=0&delay_optim=1&webp=1&epic=NGRiQ8y+7rDb2cocSbMwl47ynqxTFYLIDm2IhR5IZK5BFQooKY19ghBWe//2n+M5C2MgCiqhexDuDLBr/f/MrofnNA==\" height=\"240\" width=\"320\" alt=\"Tela do jogo Pac-Man\" title=\"Tela do jogo Pac-Man\" />\n",
    "<center><strong>Figura 1.</strong> Tela do jogo <i>Pac-Man</i></center>\n",
    "\n",
    "Uma dos grandes inovações para a época foi sua Inteligência Artificial. Cada fantasma se comportava de maneira diferente de acordo com os movimentos realizados pelo jogador, que poderiam ter a possibilidade de encurralá-lo. Enquanto *Blinky* perseguia *Pac-Man* diretamente, *Pinky* e *Inky* tentavam se posicionar a sua frente e *Clyde* alternava seus estados entre perseguir o *Pac-Man* e fugir dele. Tais comportamentos fizeram com que *Pac-Man* fosse um caso de estudos no ramo da Inteligência Artificial.\n",
    "\n",
    "\n",
    "\n",
    "Neste relatório, será mostrada uma modelagem do problema determinado em **[2]** utilizando 5 algoritmos de busca no contexto deste jogo, sendo 2 de busca não-informada (*Breadth-First Search* e *Depth-First Search*), 2 de busca informada (*Greedy Best-First Search* e *A*\\*) e 1 de busca local (*Hill Climbing*). Primeiro será detalhada como foi feita a modelagem do problema e as soluções aplicadas. Depois, serão feitos experimentos e dicussões para avaliar o comportamento dos algoritmos e, no final, as conclusões destes experimentos.\n",
    "\n",
    "## Descrição do problema\n",
    "\n",
    "Conforme determinado em **[2]**, o problema consiste em implementar 5 algoritmos diferentes de busca, sendo 2 de busca não-informada, 2 de busca informada (com 2 heurísticas diferentes) e 1 de busca local usando o *Pac-man* como tema, tendo como objetivo comer todas as bolinhas presentes no labirinto, caso consiga evitar os fantasmas. Dentre esses, é necessário avaliar critérios como otimalidade, completude e custo computacional para definir qual a melhor solução dentre elas.\n",
    "\n",
    "O labirinto é representado por um grid, também ilustrado na Figura 2, cujo tamanho e forma devem ser definidos. Deve ser definido também, além das posições das bolinhas que o *Pac-man* deve comer durante a execução do algoritmo, as posições de 3 fantasmas (que serão estáticos) e uma posição final de parada. É necessário especificar também a representação dos estados, as ações realizadas, o teste realizado para se chegar ao objetivo, o custo **g(x)** do caminho percorrido e as heurísticas utilizadas.\n",
    "\n",
    "<img src=\"https://shaunlebron.github.io/pacman-mazegen/img/origmaps_2x_print.png\" height=\"360\" width=\"480\" alt=\"Tela do jogo Pac-Man\" title=\"Tela do jogo Pac-Man\" />\n",
    "<center><strong>Figura 2.</strong> Exemplos de labirintos semelhantes <strong>[6]</strong></center>"
   ]
  },
  {
   "cell_type": "markdown",
   "metadata": {},
   "source": [
    "# Metodologia"
   ]
  },
  {
   "cell_type": "markdown",
   "metadata": {},
   "source": [
    "## Modelagem da solução\n",
    "\n",
    "### Requisitos\n",
    "\n",
    "Dada a descrição do problema, foram levantados os seguintes requisitos para a conclusão deste projeto:\n",
    "\n",
    "- **[R1]** 2 algoritmos de busca não-informada\n",
    "- **[R2]** 2 algoritmos de busca informada (com 2 heurísticas diferentes)\n",
    "- **[R3]** 1 algoritmo de busca local\n",
    "- **[R4]** Definir como o problema é modelado\n",
    "- **[R5]** Especificações e restrições da aplicação\n",
    "- **[R6]** Avaliar custo computacional dos algoritmos\n",
    "- **[R7]** Avaliar completude dos algoritmos \n",
    "- **[R8]** Avaliar otimalidade dos algoritmos \n",
    "- **[R9]** Definir o tamanho e formato do labirinto\n",
    "- **[R10]** Definir uma posição final de parada\n",
    "- **[R11]** Definir as posições de 3 fantasmas (que serão estáticos)\n",
    "- **[R12]** Definir a posição inicial do *Pac-man*\n",
    "- **[R13]** Especificar representação dos estados\n",
    "- **[R14]** Especificar as ações realizadas\n",
    "- **[R15]** Especificar o teste realizado para se chegar ao objetivo\n",
    "- **[R16]** Especificar o custo **g(x)** do caminho percorrido\n",
    "- **[R17]** Especificar as heurísticas utilizadas\n",
    "- **[R18]** A posição inicial do *Pac-man* pode variar de acordo com o problema\n",
    "- **[R19]** A posição final de parada pode variar de acordo com o problema\n",
    "- **[R20]** Discretização dos estados (tamanho e configuração do labirinto)\n",
    "- **[R21]** As posições dos fantasmas podem variar de acordo com o problema\n",
    "- **[R22]** A busca não será *online*. O problema é completamente observável e determinístico\n",
    "\n",
    "### Implementação\n",
    "\n",
    "Para a implementação, foi escolhido em vez da biblioteca AIMA **[3]** o código da Universidade de Berkeley **[4]**. Inicialmente a principal motivação de fazer a troca reside no fato que o código já possui as funções gráficas para exibição do problema, fazendo com que o foco das mudanças seja apenas na modelagem e nos algoritmos. Outras vantagens notadas é que a adaptação deste código para a representação de estados e ações foi mais simples e ele já possuía ferramentas para testes do objetivo. Entretanto, após informações futuras foi comprovado que não seria estritamente necessário e, como o Python 3 foi escolhido para a implementação, foram necessárias adaptações devido a diferenças na biblioteca *tkint* **[5]**. \n",
    "\n",
    "Originalmente, o algoritmo de Berkeley já tem um agente pacman, um agente de busca (searchAgent), um agente de teclado (keyboardAgent) e agente(s) fantasma(s) (ghostAgent), que pode ter várias réplicas, comida(s) (food) e um layout de um labirinto (maze). A ideia básica é que um layout pode ser construída de forma flexível com formatos genéricos, sobre os quais se colocam os muros (representados por %), a comida (representado por . em quaisquer posição), o pacman (representado por P, em quaisquer posições), os fantasmas (representados por um ou mais G, em quaisquer posições). O objetivo do pacman é comer todas as comidas do labirinto, mesmo que seja apenas uma unitária, e assim ganhar o jogo, o(s) fantasma(s) vai/vão tentar atacar o pacman de forma dinâmica e assim o conseguir, o pacman perde o jogo. O problema do algoritmo foi modelado de forma que há um estado de início do pacman (posição no maze), um objetivo (ou estado final, ou objetivo, ou goal) - originalmente hardcoded, funcão de sucessão e função de custo. Por comando de linha se determina qual o agente de busca (searchAgent) e o algoritmo de busca (não informado, informado, local) será utilizado, mas não implementa nenhuma heurística e parâmetro para apresentação gráfico no labirinto (i.e.o zoom). O algoritmo tem duas partes principais, a determinação da árvore de estado, que é o caminho que será percorrido pelo pacman ao longo do labirinto, em forma de lista de ações (EAST, WEST, NORTH, SOUTH). O qual será utilizado como entrada na segunda etapa para a operação do pacman na representação gráfica. O pacman pode ter uma lista de ações até o objetivo final, mas o planejamento pode ser interrompido por um agente fantasma a qualquer momento e assim ser comido e perder o jogo. \n",
    "\n",
    "Não houve uma mudança significativa na segunda etapa onde a lista de ações é submetida à ação da parte gráfica. Apenas foi introduzido um código para pausar os agentes, ora dinâmico, dos fantasmas. Ainda assim, com capacidade de matar o agente pacman. Foram extendidos a atual capacidade do agente de busca para cumprir com os requisitos do Projeto 1.\n",
    "\n",
    "A principal mudança realizada em relação ao código original os arquivos **searchAgents.py** and **search.py**, que possuíam os códigos para modelagem dos agentes e para os algoritmos de busca, foram substituídos por versões customizadas, batizados de **search2Agents.py** and **search2.py** respectivamente. As configurações e usabilidade também foram herdadas do código da Universidade de Berkeley, sendo executadas na seção de Experimentos e discussão e utilizando estas *flags*:\n",
    "\n",
    "- **-l** - Determina o *layout* de labirinto a ser utilizado\n",
    "- **-p** - Determina o agente inteligente que controlará o *Pac-Man*\n",
    "- **-a** - Determina os parâmetros dos algoritmos utilizados. É possível selecionar o algoritmo utilizado (**fn**) e a heurística (**heuristic**)\n",
    "- **-z** - Zoom. Determina a escala da janela a ser aberta para visualização do jogo (de 0.1 a 0.9)\n",
    "\n",
    "Os labirintos são gerados em arquivos de texto, em arquivos de extensão **.lay**. Nele, o programa reconhece como códigos os seguintes caracteres:\n",
    "\n",
    "- **%** - Parede\n",
    "- **.** - Bolinha\n",
    "- **o** - Bolinha com poderes\n",
    "- **G** - Fantasma\n",
    "- **P** - *Pac-man*\n",
    "\n",
    "Tal padrão permite um desenvolvimento mais flexível e intuitivo dos labirintos, podendo colocar o *Pac-man*, os fantasmas e as bolinhas em diversas posições e com tamanhos e formatos variáveis de labirintos. Devido aos requisitos do projeto, foram colocadas as seguintes restrições:\n",
    "\n",
    "- Como o objetivo do problema prioriza a avaliação dos algoritmos, o problema foi modelado com o objetivo mais simples: Encontrar a única bolinha que está presente nos mapas propostos.\n",
    "- Não foram colocadas bolinhas com poderes nos labirintos. Isso dá mais ênfase a busca, pois o *Pac-man* sempre perderá o jogo se o algoritmo escolher o caminho onde está um dos fantasmas.\n",
    "- São colocados 3 fantasmas em posições determinadas, porém distintas.\n",
    "- O agente inteligente dos fantasmas é desligado durante o jogo.\n",
    "- Para simplificar os *layouts* e testes dos algoritmos, o labirinto possui o formato retangular e fechado.\n",
    "- O labirinto é feito em **[6]**, colocado em arquivo e possui um tamanho de 28 linhas x 31 colunas\n",
    "- O *Pac-man* é colocado em uma posição determinada.\n",
    "\n",
    "### Problema, agentes e ambiente\n",
    "\n",
    "Como o labirinto é representado por um grid, os estados foram representados por tuplas no formato **(x,y)** e as ações são determinadas pelas direções **['South', 'West', 'East', 'North']**. Uma implementação simples do problema na biblioteca AIMA pode ser verificada no código abaixo:"
   ]
  },
  {
   "cell_type": "raw",
   "metadata": {},
   "source": [
    "\"\"\"AIMA Library Representation similar to UC Berkeley code\"\"\"\n",
    "class SimplePacmanProblem(Problem):\n",
    "    def __init__(self, initial=(0, 0), goal=(30, 30), obstacles=(), heuristic=euclidean_distance, **kwds):\n",
    "        Problem.__init__(self, initial=initial, goal=goal, **kwds)\n",
    "        self.obstacles = obstacles - {initial, goal}\n",
    "        self.heuristic = heuristic\n",
    "\n",
    "    directions = [(0, -1), (-1, 0), (1, 0), (0, 1)]\n",
    "\n",
    "    def action_cost(self, s, action, s1): return self.heuristic(s, s1)\n",
    "\n",
    "    def value(self, state): return -1 * np.linalg.norm(self.heuristic(state, self.goal))\n",
    "\n",
    "    def h(self, node): return self.heuristic(node.state, self.goal)\n",
    "\n",
    "    def result(self, state, action):\n",
    "        return action if action not in self.obstacles else state\n",
    "\n",
    "    def actions(self, state):\n",
    "        x, y = state\n",
    "        return {(x + dx, y + dy) for (dx, dy) in self.directions} - self.obstacles"
   ]
  },
  {
   "cell_type": "markdown",
   "metadata": {},
   "source": [
    "Nele, a classe **SimplePacmanProblem** é uma classe filha da classe **Problem**, que é passada para os algoritmos de busca encontrarem o melhor caminho. Como parâmetros em seu construtor há um valor inicial, final, obstáculos e heurística. **action_cost** é a função heurística utilizada para algoritmos de busca informada (ou **g(x)**), **h** é a função heurística utilizada para o *A*\\* (ou **h(x)**) e **value** é a função heurística utilizada para algoritmos de busca locais (ou **g(x)**). No AIMA, o heurística nos algoritmos de busca locais em seu código original é realizada em direção a um mínimo local. O valor de **directions** seria semelhante às ações que o *Pac-man* executaria no caminho, fazendo estados e ações serem tuplas no formato **(x,y)** e praticamente não tendo diferenciação.\n",
    "\n",
    "A classe semelhante no código utilizado neste projeto é a **PositionSearchProblem2**, que é uma classe filha da classe **SearchProblem2**, a qual é passada para os algoritmos de busca encontrarem o melhor caminho. Como parâmetros em seu construtor há um valor inicial, final, heurística e o estado do jogo, que guarda as posições das paredes, fantasmas, das bolinhas e do *Pac-man*. **getCostOfActions** é a função utilizada para determinar os estados através da função heurística para os algoritmos de busca informada e local (dependendo dos parâmetros utilizados pode ser **g(x)** ou **h(x)**). **getSuccessors** é a função que disponibiliza os nós sucessores da busca, semelhante a função **actions** presente na AIMA. Há ainda a função **isGoalState**, semelhante a função **goal_test** da classe **Problem**. A classe **Search2Agent** faz o papel de agente inteligente e a ligação entre problema, algoritmo de busca, estado do jogo e heurística.\n",
    "\n",
    "Um diagrama de classes com todas as classes presentes no código pode ser visto no PDF abaixo:\n"
   ]
  },
  {
   "cell_type": "code",
   "execution_count": 1,
   "metadata": {},
   "outputs": [
    {
     "name": "stdout",
     "output_type": "stream",
     "text": [
      "C:\\Users\\Thales E. Nazatto\\Documents\\Pós\\MO416A\\MO416AI\\Project1/modelling/modellingClasses.pdf\n"
     ]
    },
    {
     "data": {
      "text/plain": [
       "True"
      ]
     },
     "execution_count": 1,
     "metadata": {},
     "output_type": "execute_result"
    }
   ],
   "source": [
    "# This .pdf file shows class diagram that implements how the problem was modeled using game graphical interface. It is part\n",
    "# of how requirement [R4] and requirement [8] was modeling from Berkeley algorithm design base, and modification done\n",
    "# to comply with MO416 Project 1 requirements.\n",
    "import os\n",
    "cwd = os.getcwd()\n",
    "cwd=cwd+'/modelling/modellingClasses.pdf'\n",
    "print(cwd)\n",
    "import webbrowser\n",
    "webbrowser.open(r''+os.path.join('modelling','modellingClasses.pdf'))\n",
    "webbrowser.open(cwd)"
   ]
  },
  {
   "cell_type": "markdown",
   "metadata": {},
   "source": [
    "## Algoritmos\n",
    "\n",
    "<center>Tabela de referência dos algoritmos</center>\n",
    "\n",
    "|Algoritmo|Otimalidade|Completude|Complexidade$^1$ de Tempo|Complexidade$^1$ de Espaço|\n",
    "|---|---|---|---|---|\n",
    "|Depth-first Search|Não|Não|$O(b^m)$|$O(bm)$|\n",
    "|Breadth-first Search|Sim|Sim|$O(b^{d+1})$|$O(b^{d+1})$|\n",
    "|A*|Sim$^2$|Sim|$O(b^d)$|$O(b^d)$|\n",
    "|Greedy best-first Search|Não|Depende$^3$|$O(bm)$|$O(bm)$|\n",
    "|Hill Climbing|Não|Não|$O(b^d)$|$O(1)$|\n",
    "\n",
    "<center>1. $b$ é número de nós, $d$ é nível, e $m$ é profundidade máxima</center>\n",
    "<center>2. Minimiza custo quando a heurística é admissível</center>\n",
    "<center>3. Sim, se não visita nós repetidos. Não, caso contrário.</center>\n",
    "\n",
    "### Busca não-informada\n",
    "\n",
    "#### Depth-First Search"
   ]
  },
  {
   "cell_type": "code",
   "execution_count": 80,
   "metadata": {},
   "outputs": [
    {
     "name": "stdout",
     "output_type": "stream",
     "text": [
      "[Search2Agent] using function dfs\n",
      "[Search2Agent] using problem type PositionSearchProblem2\n",
      "[R12] Initial position of pacman is (23, 29)\n",
      "[R10] Final goal position is (1, 3)\n",
      "[R11] Ghost Positions is/are [(9, 20), (15, 10), (26, 7)]\n",
      "Number of foods is 1\n",
      "[R15] has the game food? False\n",
      "Warning: this does not look like a regular search maze\n",
      "[R16] Path found with total cost g(x) of 170 in 0.03629422187805176s\n",
      "[R13] Search nodes expanded: 253\n",
      "[R13] Nodes visited: [(23, 29), (22, 29), (21, 29), (20, 29), (19, 29), (18, 29), (17, 29), (16, 29), (15, 29), (14, 29), (13, 29), (12, 29), (11, 29), (10, 29), (9, 29), (8, 29), (7, 29), (6, 29), (5, 29), (4, 29), (3, 29), (2, 29), (1, 29), (1, 28), (1, 27), (1, 26), (1, 25), (1, 24), (1, 23), (1, 22), (1, 21), (1, 20), (2, 20), (3, 20), (4, 20), (5, 20), (6, 20), (6, 19), (6, 18), (6, 17), (6, 16), (5, 16), (4, 16), (3, 16), (2, 16), (1, 16), (1, 17), (1, 18), (1, 19), (3, 15), (3, 14), (3, 13), (2, 13), (1, 13), (1, 12), (1, 11), (1, 10), (2, 10), (3, 10), (3, 9), (3, 8), (3, 7), (2, 7), (1, 7), (4, 7), (5, 7), (6, 7), (6, 6), (6, 5), (6, 4), (6, 3), (6, 2), (6, 1), (5, 1), (4, 1), (3, 1), (2, 1), (1, 1), (1, 2), (1, 3), (1, 4), (2, 4), (3, 4), (3, 5), (3, 6), (7, 1), (8, 1), (9, 1), (10, 1), (11, 1), (12, 1), (12, 2), (12, 3), (12, 4), (11, 4), (10, 4), (9, 4), (9, 5), (9, 6), (9, 7), (9, 8), (9, 9), (9, 10), (8, 10), (7, 10), (6, 10), (6, 9), (6, 8), (6, 11), (6, 12), (6, 13), (5, 13), (4, 13), (10, 10), (11, 10), (12, 10), (12, 9), (12, 8), (12, 7), (13, 7), (14, 7), (15, 7), (15, 8), (15, 9), (15, 10), (16, 10), (17, 10), (18, 10), (19, 10), (20, 10), (21, 10), (21, 9), (21, 8), (21, 7), (22, 7), (23, 7), (24, 7), (25, 7), (26, 7), (24, 6), (24, 5), (24, 4), (25, 4), (26, 4), (26, 3), (26, 2), (26, 1), (25, 1), (24, 1), (23, 1), (22, 1), (21, 1), (20, 1), (19, 1), (18, 1), (17, 1), (16, 1), (15, 1), (15, 2), (15, 3), (15, 4), (14, 4), (13, 4), (16, 4), (17, 4), (18, 4), (18, 5), (18, 6), (18, 7), (18, 8), (18, 9), (21, 2), (21, 3), (21, 4), (21, 5), (21, 6), (24, 8), (24, 9), (24, 10), (25, 10), (26, 10), (26, 11), (26, 12), (26, 13), (25, 13), (24, 13), (23, 13), (22, 13), (21, 13), (21, 12), (21, 11), (24, 14), (24, 15), (24, 16), (23, 16), (22, 16), (21, 16), (20, 16), (19, 16), (18, 16), (18, 15), (18, 14), (18, 13), (17, 13), (16, 13), (15, 13), (14, 13), (13, 13), (12, 13), (11, 13), (10, 13), (9, 13), (9, 12), (9, 11), (9, 14), (9, 15), (9, 16), (8, 16), (7, 16), (9, 17), (9, 18), (9, 19), (10, 19), (11, 19), (12, 19), (13, 19), (14, 19), (15, 19), (16, 19), (17, 19), (18, 19), (18, 18), (18, 17), (18, 20), (18, 21), (18, 22), (18, 23), (17, 23), (16, 23), (15, 23), (14, 23), (13, 23), (12, 23), (11, 23), (10, 23), (9, 23), (8, 23), (7, 23), (6, 23), (5, 23), (4, 23), (4, 22), (4, 21), (6, 24)]\n",
      "[R13] Solution states: 171 - [(23, 29), (22, 29), (21, 29), (20, 29), (19, 29), (18, 29), (17, 29), (16, 29), (15, 29), (14, 29), (13, 29), (12, 29), (11, 29), (10, 29), (9, 29), (8, 29), (7, 29), (6, 29), (5, 29), (4, 29), (3, 29), (2, 29), (1, 29), (1, 28), (1, 27), (1, 26), (1, 25), (1, 24), (1, 23), (1, 22), (1, 21), (1, 20), (2, 20), (3, 20), (4, 20), (5, 20), (6, 20), (6, 19), (6, 18), (6, 17), (6, 16), (5, 16), (4, 16), (3, 16), (3, 15), (3, 14), (3, 13), (2, 13), (1, 13), (1, 12), (1, 11), (1, 10), (2, 10), (3, 10), (3, 9), (3, 8), (3, 7), (4, 7), (5, 7), (6, 7), (6, 6), (6, 5), (6, 4), (6, 3), (6, 2), (6, 1), (7, 1), (8, 1), (9, 1), (10, 1), (11, 1), (12, 1), (12, 2), (12, 3), (12, 4), (11, 4), (10, 4), (9, 4), (9, 5), (9, 6), (9, 7), (9, 8), (9, 9), (9, 10), (10, 10), (11, 10), (12, 10), (12, 9), (12, 8), (12, 7), (13, 7), (14, 7), (15, 7), (15, 8), (15, 9), (15, 10), (16, 10), (17, 10), (18, 10), (19, 10), (20, 10), (21, 10), (21, 9), (21, 8), (21, 7), (22, 7), (23, 7), (24, 7), (24, 8), (24, 9), (24, 10), (25, 10), (26, 10), (26, 11), (26, 12), (26, 13), (25, 13), (24, 13), (24, 14), (24, 15), (24, 16), (23, 16), (22, 16), (21, 16), (20, 16), (19, 16), (18, 16), (18, 15), (18, 14), (18, 13), (17, 13), (16, 13), (15, 13), (14, 13), (13, 13), (12, 13), (11, 13), (10, 13), (9, 13), (9, 14), (9, 15), (9, 16), (9, 17), (9, 18), (9, 19), (10, 19), (11, 19), (12, 19), (13, 19), (14, 19), (15, 19), (16, 19), (17, 19), (18, 19), (18, 20), (18, 21), (18, 22), (18, 23), (17, 23), (16, 23), (15, 23), (14, 23), (13, 23), (12, 23), (11, 23), (10, 23), (9, 23), (8, 23), (7, 23), (6, 23), (6, 24)]\n",
      "[R14] Solution actions: ['West', 'West', 'West', 'West', 'West', 'West', 'West', 'West', 'West', 'West', 'West', 'West', 'West', 'West', 'West', 'West', 'West', 'West', 'West', 'West', 'West', 'West', 'South', 'South', 'South', 'South', 'South', 'South', 'South', 'South', 'South', 'East', 'East', 'East', 'East', 'East', 'South', 'South', 'South', 'South', 'West', 'West', 'West', 'South', 'South', 'South', 'West', 'West', 'South', 'South', 'South', 'East', 'East', 'South', 'South', 'South', 'East', 'East', 'East', 'South', 'South', 'South', 'South', 'South', 'South', 'East', 'East', 'East', 'East', 'East', 'East', 'North', 'North', 'North', 'West', 'West', 'West', 'North', 'North', 'North', 'North', 'North', 'North', 'East', 'East', 'East', 'South', 'South', 'South', 'East', 'East', 'East', 'North', 'North', 'North', 'East', 'East', 'East', 'East', 'East', 'East', 'South', 'South', 'South', 'East', 'East', 'East', 'North', 'North', 'North', 'East', 'East', 'North', 'North', 'North', 'West', 'West', 'North', 'North', 'North', 'West', 'West', 'West', 'West', 'West', 'West', 'South', 'South', 'South', 'West', 'West', 'West', 'West', 'West', 'West', 'West', 'West', 'West', 'North', 'North', 'North', 'North', 'North', 'North', 'East', 'East', 'East', 'East', 'East', 'East', 'East', 'East', 'East', 'North', 'North', 'North', 'North', 'West', 'West', 'West', 'West', 'West', 'West', 'West', 'West', 'West', 'West', 'West', 'West', 'North']\n",
      "Pacman died! Score: -595\n",
      "Average Score: -595.0\n",
      "Scores:        -595.0\n",
      "Win Rate:      0/1 (0.00)\n",
      "Record:        Loss\n"
     ]
    }
   ],
   "source": [
    "# [R1.1] Show dfs (depth first search) method.\n",
    "!python pacman.py -l easyLayout -p Search2Agent -a fn=dfs -z .6\n",
    "#!python pacman.py -l normalLayout -p Search2Agent -a fn=dfs -z .6\n",
    "#!python pacman.py -l hardLayout -p Search2Agent -a fn=dfs -z .6"
   ]
  },
  {
   "cell_type": "markdown",
   "metadata": {},
   "source": [
    "#### Breadth-First Search"
   ]
  },
  {
   "cell_type": "code",
   "execution_count": 81,
   "metadata": {
    "scrolled": true
   },
   "outputs": [
    {
     "name": "stdout",
     "output_type": "stream",
     "text": [
      "[Search2Agent] using function bfs\n",
      "[Search2Agent] using problem type PositionSearchProblem2\n",
      "[R12] Initial position of pacman is (23, 29)\n",
      "[R10] Final goal position is (1, 3)\n",
      "[R11] Ghost Positions is/are [(9, 20), (15, 10), (26, 7)]\n",
      "Number of foods is 1\n",
      "[R15] has the game food? False\n",
      "Warning: this does not look like a regular search maze\n",
      "[R16] Path found with total cost g(x) of 24 in 0.029007434844970703s\n",
      "[R13] Search nodes expanded: 153\n",
      "[R13] Nodes visited: [(23, 29), (23, 28), (24, 29), (22, 29), (23, 27), (25, 29), (21, 29), (23, 26), (26, 29), (20, 29), (22, 26), (26, 28), (19, 29), (21, 26), (26, 27), (18, 29), (21, 25), (26, 26), (17, 29), (21, 24), (26, 25), (16, 29), (21, 23), (26, 24), (15, 29), (22, 23), (20, 23), (26, 23), (15, 28), (14, 29), (23, 23), (19, 23), (26, 22), (15, 27), (13, 29), (23, 22), (18, 23), (26, 21), (15, 26), (12, 29), (23, 21), (18, 24), (18, 22), (17, 23), (26, 20), (16, 26), (12, 28), (11, 29), (23, 20), (18, 25), (18, 21), (16, 23), (26, 19), (25, 20), (17, 26), (12, 27), (10, 29), (24, 20), (22, 20), (18, 26), (18, 20), (15, 23), (26, 18), (12, 26), (9, 29), (21, 20), (18, 19), (14, 23), (26, 17), (11, 26), (8, 29), (21, 19), (18, 18), (17, 19), (13, 23), (26, 16), (10, 26), (7, 29), (21, 18), (18, 17), (16, 19), (12, 23), (25, 16), (9, 26), (6, 29), (21, 17), (18, 16), (15, 19), (11, 23), (24, 16), (9, 25), (5, 29), (21, 16), (18, 15), (19, 16), (14, 19), (10, 23), (24, 15), (23, 16), (9, 24), (4, 29), (22, 16), (20, 16), (18, 14), (14, 18), (13, 19), (9, 23), (24, 14), (4, 28), (3, 29), (18, 13), (14, 17), (13, 18), (12, 19), (9, 22), (8, 23), (24, 13), (4, 27), (2, 29), (18, 12), (17, 13), (14, 16), (15, 17), (13, 17), (11, 19), (9, 21), (7, 23), (25, 13), (23, 13), (4, 26), (1, 29), (18, 11), (16, 13), (14, 15), (15, 16), (13, 16), (16, 17), (12, 17), (10, 19), (9, 20), (6, 23), (26, 13), (22, 13), (5, 26), (1, 28), (18, 10), (15, 13), (15, 15), (13, 15), (16, 16), (12, 16), (11, 17), (9, 19), (6, 24)]\n",
      "[R13] Solution states: 25 - [(23, 29), (23, 28), (23, 27), (23, 26), (22, 26), (21, 26), (21, 25), (21, 24), (21, 23), (20, 23), (19, 23), (18, 23), (17, 23), (16, 23), (15, 23), (14, 23), (13, 23), (12, 23), (11, 23), (10, 23), (9, 23), (8, 23), (7, 23), (6, 23), (6, 24)]\n",
      "[R14] Solution actions: ['South', 'South', 'South', 'West', 'West', 'South', 'South', 'South', 'West', 'West', 'West', 'West', 'West', 'West', 'West', 'West', 'West', 'West', 'West', 'West', 'West', 'West', 'West', 'North']\n",
      "Pacman emerges victorious! Score: 486\n",
      "Average Score: 486.0\n",
      "Scores:        486.0\n",
      "Win Rate:      1/1 (1.00)\n",
      "Record:        Win\n"
     ]
    }
   ],
   "source": [
    "# [R1.2] Show bfs (breadth first search) method.\n",
    "!python pacman.py -l easyLayout -p Search2Agent -a fn=bfs -z .6\n",
    "#!python pacman.py -l normalLayout -p Search2Agent -a fn=bfs -z .6\n",
    "#!python pacman.py -l hardLayout -p Search2Agent -a fn=bfs -z .6"
   ]
  },
  {
   "cell_type": "markdown",
   "metadata": {},
   "source": [
    "### Busca informada\n",
    "\n",
    "#### A*"
   ]
  },
  {
   "cell_type": "code",
   "execution_count": 82,
   "metadata": {
    "scrolled": true
   },
   "outputs": [
    {
     "name": "stdout",
     "output_type": "stream",
     "text": [
      "[Search2Agent] using function astar and [R16] heuristic manhattanHeuristic\n",
      "[Search2Agent] using problem type PositionSearchProblem2\n",
      "[R12] Initial position of pacman is (23, 29)\n",
      "[R10] Final goal position is (1, 3)\n",
      "[R11] Ghost Positions is/are [(9, 20), (15, 10), (26, 7)]\n",
      "Number of foods is 1\n",
      "[R15] has the game food? False\n",
      "Warning: this does not look like a regular search maze\n",
      "[R16] Path found with total cost g(x) of 24 in 0.013302087783813477s\n",
      "[R13] Search nodes expanded: 49\n",
      "[R13] Nodes visited: [(23, 29), (23, 28), (22, 29), (23, 27), (21, 29), (23, 26), (20, 29), (22, 26), (19, 29), (21, 26), (18, 29), (21, 25), (17, 29), (21, 24), (16, 29), (15, 29), (15, 28), (14, 29), (15, 27), (13, 29), (15, 26), (12, 29), (12, 28), (11, 29), (12, 27), (10, 29), (12, 26), (9, 29), (11, 26), (8, 29), (10, 26), (7, 29), (9, 26), (6, 29), (9, 25), (9, 24), (24, 29), (21, 23), (16, 26), (5, 29), (9, 23), (20, 23), (8, 23), (19, 23), (7, 23), (18, 23), (6, 23), (18, 24), (17, 23), (6, 24)]\n",
      "[R13] Solution states: 25 - [(23, 29), (22, 29), (21, 29), (20, 29), (19, 29), (18, 29), (17, 29), (16, 29), (15, 29), (14, 29), (13, 29), (12, 29), (12, 28), (12, 27), (12, 26), (11, 26), (10, 26), (9, 26), (9, 25), (9, 24), (9, 23), (8, 23), (7, 23), (6, 23), (6, 24)]\n",
      "[R14] Solution actions: ['West', 'West', 'West', 'West', 'West', 'West', 'West', 'West', 'West', 'West', 'West', 'South', 'South', 'South', 'West', 'West', 'West', 'South', 'South', 'South', 'West', 'West', 'West', 'North']\n",
      "Pacman emerges victorious! Score: 486\n",
      "Average Score: 486.0\n",
      "Scores:        486.0\n",
      "Win Rate:      1/1 (1.00)\n",
      "Record:        Win\n"
     ]
    }
   ],
   "source": [
    "# [R2.1] Show A* and Manhattan heuristic method.\n",
    "!python pacman.py -l easyLayout -p Search2Agent -a fn=astar,heuristic=manhattanHeuristic -z .6\n",
    "#!python pacman.py -l normalLayout -p Search2Agent -a fn=astar,heuristic=manhattanHeuristic -z .6\n",
    "#!python pacman.py -l hardLayout -p Search2Agent -a fn=astar,heuristic=manhattanHeuristic -z .6"
   ]
  },
  {
   "cell_type": "code",
   "execution_count": 83,
   "metadata": {
    "scrolled": true
   },
   "outputs": [
    {
     "name": "stdout",
     "output_type": "stream",
     "text": [
      "[Search2Agent] using function astar and [R16] heuristic euclideanHeuristic\n",
      "[Search2Agent] using problem type PositionSearchProblem2\n",
      "[R12] Initial position of pacman is (23, 29)\n",
      "[R10] Final goal position is (1, 3)\n",
      "[R11] Ghost Positions is/are [(9, 20), (15, 10), (26, 7)]\n",
      "Number of foods is 1\n",
      "[R15] has the game food? False\n",
      "Warning: this does not look like a regular search maze\n",
      "[R16] Path found with total cost g(x) of 24 in 0.014453649520874023s\n",
      "[R13] Search nodes expanded: 58\n",
      "[R13] Nodes visited: [(23, 29), (22, 29), (21, 29), (20, 29), (19, 29), (18, 29), (17, 29), (16, 29), (15, 29), (14, 29), (23, 28), (13, 29), (12, 29), (15, 28), (11, 29), (12, 28), (23, 27), (10, 29), (15, 27), (24, 29), (12, 27), (9, 29), (23, 26), (22, 26), (21, 26), (15, 26), (12, 26), (8, 29), (11, 26), (10, 26), (9, 26), (21, 25), (7, 29), (9, 25), (25, 29), (21, 24), (6, 29), (9, 24), (16, 26), (21, 23), (20, 23), (19, 23), (18, 23), (17, 23), (16, 23), (15, 23), (14, 23), (13, 23), (12, 23), (5, 29), (11, 23), (10, 23), (9, 23), (8, 23), (7, 23), (26, 29), (18, 24), (6, 23), (6, 24)]\n",
      "[R13] Solution states: 25 - [(23, 29), (22, 29), (21, 29), (20, 29), (19, 29), (18, 29), (17, 29), (16, 29), (15, 29), (14, 29), (13, 29), (12, 29), (12, 28), (12, 27), (12, 26), (11, 26), (10, 26), (9, 26), (9, 25), (9, 24), (9, 23), (8, 23), (7, 23), (6, 23), (6, 24)]\n",
      "[R14] Solution actions: ['West', 'West', 'West', 'West', 'West', 'West', 'West', 'West', 'West', 'West', 'West', 'South', 'South', 'South', 'West', 'West', 'West', 'South', 'South', 'South', 'West', 'West', 'West', 'North']\n",
      "Pacman emerges victorious! Score: 486\n",
      "Average Score: 486.0\n",
      "Scores:        486.0\n",
      "Win Rate:      1/1 (1.00)\n",
      "Record:        Win\n"
     ]
    }
   ],
   "source": [
    "# [R2.1] Show A* and Euclidean heuristic method.\n",
    "!python pacman.py -l easyLayout -p Search2Agent -a fn=astar,heuristic=euclideanHeuristic -z .6\n",
    "#!python pacman.py -l normalLayout -p Search2Agent -a fn=astar,heuristic=euclideanHeuristic -z .6\n",
    "#!python pacman.py -l hardLayout -p Search2Agent -a fn=astar,heuristic=euclideanHeuristic -z .6"
   ]
  },
  {
   "cell_type": "markdown",
   "metadata": {},
   "source": [
    "#### Greedy Best-First Search"
   ]
  },
  {
   "cell_type": "code",
   "execution_count": 85,
   "metadata": {},
   "outputs": [
    {
     "name": "stdout",
     "output_type": "stream",
     "text": [
      "[Search2Agent] using function gbfs and [R16] heuristic manhattanHeuristic\n",
      "[Search2Agent] using problem type PositionSearchProblem2\n",
      "[R12] Initial position of pacman is (23, 29)\n",
      "[R10] Final goal position is (1, 3)\n",
      "[R11] Ghost Positions is/are [(9, 20), (15, 10), (26, 7)]\n",
      "Number of foods is 1\n",
      "[R15] has the game food? False\n",
      "Warning: this does not look like a regular search maze\n",
      "[R16] Path found with total cost g(x) of 24 in 0.007546901702880859s\n",
      "[R13] Search nodes expanded: 26\n",
      "[R13] Nodes visited: [(23, 29), (23, 28), (23, 27), (23, 26), (22, 26), (21, 26), (21, 25), (21, 24), (21, 23), (20, 23), (19, 23), (18, 23), (18, 24), (17, 23), (16, 23), (15, 23), (14, 23), (13, 23), (12, 23), (11, 23), (10, 23), (9, 23), (9, 24), (8, 23), (7, 23), (6, 23), (6, 24)]\n",
      "[R13] Solution states: 25 - [(23, 29), (23, 28), (23, 27), (23, 26), (22, 26), (21, 26), (21, 25), (21, 24), (21, 23), (20, 23), (19, 23), (18, 23), (17, 23), (16, 23), (15, 23), (14, 23), (13, 23), (12, 23), (11, 23), (10, 23), (9, 23), (8, 23), (7, 23), (6, 23), (6, 24)]\n",
      "[R14] Solution actions: ['South', 'South', 'South', 'West', 'West', 'South', 'South', 'South', 'West', 'West', 'West', 'West', 'West', 'West', 'West', 'West', 'West', 'West', 'West', 'West', 'West', 'West', 'West', 'North']\n",
      "Pacman emerges victorious! Score: 486\n",
      "Average Score: 486.0\n",
      "Scores:        486.0\n",
      "Win Rate:      1/1 (1.00)\n",
      "Record:        Win\n"
     ]
    }
   ],
   "source": [
    "#[R2.2] Show gbfs (greedy best first search) and Manhattan heuristic method.\n",
    "!python pacman.py -l easyLayout -p Search2Agent -a fn=gbfs,heuristic=manhattanHeuristic -z .6\n",
    "#!python pacman.py -l normalLayout -p Search2Agent -a fn=gbfs,heuristic=manhattanHeuristic -z .6\n",
    "#!python pacman.py -l hardLayout -p Search2Agent -a fn=gbfs,heuristic=manhattanHeuristic -z .6"
   ]
  },
  {
   "cell_type": "code",
   "execution_count": 86,
   "metadata": {},
   "outputs": [
    {
     "name": "stdout",
     "output_type": "stream",
     "text": [
      "[Search2Agent] using function gbfs and [R16] heuristic euclideanHeuristic\n",
      "[Search2Agent] using problem type PositionSearchProblem2\n",
      "[R12] Initial position of pacman is (23, 29)\n",
      "[R10] Final goal position is (1, 3)\n",
      "[R11] Ghost Positions is/are [(9, 20), (15, 10), (26, 7)]\n",
      "Number of foods is 1\n",
      "[R15] has the game food? False\n",
      "Warning: this does not look like a regular search maze\n",
      "[R16] Path found with total cost g(x) of 26 in 0.008487224578857422s\n",
      "[R13] Search nodes expanded: 26\n",
      "[R13] Nodes visited: [(23, 29), (22, 29), (21, 29), (20, 29), (19, 29), (18, 29), (17, 29), (16, 29), (15, 29), (14, 29), (13, 29), (12, 29), (11, 29), (10, 29), (9, 29), (8, 29), (7, 29), (6, 29), (5, 29), (4, 29), (4, 28), (4, 27), (4, 26), (5, 26), (6, 26), (6, 25), (6, 24)]\n",
      "[R13] Solution states: 27 - [(23, 29), (22, 29), (21, 29), (20, 29), (19, 29), (18, 29), (17, 29), (16, 29), (15, 29), (14, 29), (13, 29), (12, 29), (11, 29), (10, 29), (9, 29), (8, 29), (7, 29), (6, 29), (5, 29), (4, 29), (4, 28), (4, 27), (4, 26), (5, 26), (6, 26), (6, 25), (6, 24)]\n",
      "[R14] Solution actions: ['West', 'West', 'West', 'West', 'West', 'West', 'West', 'West', 'West', 'West', 'West', 'West', 'West', 'West', 'West', 'West', 'West', 'West', 'West', 'South', 'South', 'South', 'East', 'East', 'South', 'South']\n",
      "Pacman emerges victorious! Score: 484\n",
      "Average Score: 484.0\n",
      "Scores:        484.0\n",
      "Win Rate:      1/1 (1.00)\n",
      "Record:        Win\n"
     ]
    }
   ],
   "source": [
    "##[R2.2] Show gbfs (greedy best first search) and Euclidean heuristic method.\n",
    "!python pacman.py -l easyLayout -p Search2Agent -a fn=gbfs,heuristic=euclideanHeuristic -z .6\n",
    "#!python pacman.py -l normalLayout -p Search2Agent -a fn=gbfs,heuristic=euclideanHeuristic -z .6\n",
    "#!python pacman.py -l hardLayout -p Search2Agent -a fn=gbfs,heuristic=euclideanHeuristic -z .6"
   ]
  },
  {
   "cell_type": "markdown",
   "metadata": {},
   "source": [
    "### Busca local (*Hill Climbing*)"
   ]
  },
  {
   "cell_type": "code",
   "execution_count": 118,
   "metadata": {},
   "outputs": [],
   "source": [
    "from re import search\n",
    "from subprocess import run\n",
    "\n",
    "def run_hcs(layout):\n",
    "    '''\n",
    "    Extrai o número de nós visitados e expandidos da\n",
    "    stdout do comando pacman.py.\n",
    "    '''\n",
    "    nodes_visited = 0\n",
    "    nodes_expanded = 0\n",
    "    output = run(['python', 'pacman.py', \n",
    "                  '-l', layout, \n",
    "                  '-p', 'Search2Agent', \n",
    "                  '-a', 'fn=hcs', \n",
    "                  '-z', '.6'], capture_output=True)\n",
    "    results = output.stdout.decode('utf-8').split('\\n')\n",
    "    for result in results:\n",
    "        matchstates = search('Solution states: ', result)\n",
    "        if matchstates:\n",
    "            nodes_visited = int(result[matchstates.end():].split(' ')[0])\n",
    "        matchnodes = search('nodes expanded: ', result)\n",
    "        if matchnodes:\n",
    "            nodes_expanded = int(result[matchnodes.end():])\n",
    "    return nodes_visited, nodes_expanded\n",
    "\n",
    "def mean_hcs(n, layout):\n",
    "    '''\n",
    "    Executa Hill Climbing n vezes no layout escolhido\n",
    "    e retorna a média de nós visitados e expandidos\n",
    "    nas n execuções.\n",
    "    '''\n",
    "    totalvisited = 0\n",
    "    totalexpanded = 0\n",
    "    for _ in range(n):\n",
    "        nvisited, nexpanded = run_hcs('easyLayout')\n",
    "        totalvisited += nvisited\n",
    "        totalexpanded += nexpanded\n",
    "    meanvisited = totalvisited / n\n",
    "    meanexpanded = totalexpanded / n\n",
    "    print(f'{layout}\\tNo. nodes visited (mean): {meanvisited}')\n",
    "    print(f'{layout}t\\tNo. nodes expanded (mean): {meanexpanded}')\n",
    "    return meanvisited, meanexpanded"
   ]
  },
  {
   "cell_type": "code",
   "execution_count": 119,
   "metadata": {},
   "outputs": [
    {
     "name": "stdout",
     "output_type": "stream",
     "text": [
      "NODES VISITED 55\n",
      "NODES VISITED 73\n",
      "easyLayout\tNo. nodes visited (mean): 64.0\n",
      "easyLayoutt\tNo. nodes expanded (mean): 148.0\n"
     ]
    }
   ],
   "source": [
    "nvisited, nexpanded = mean_hcs(2, 'easyLayout')"
   ]
  },
  {
   "cell_type": "markdown",
   "metadata": {},
   "source": [
    "# Resultados\n",
    "\n",
    "As tabelas a seguir apresentam o desempenho das implementaçõs.  Estes resultados são comparados com a tabela de referência teórica.\n",
    "\n",
    "### *easyLayout*\n",
    "\n",
    "|Algoritmo|Otimalidade|Completude|No. nós expandidos|No. nós visitados|\n",
    "|---|---|---|---|---|\n",
    "|Depth-first Search                  |?|Não|253|171|\n",
    "|Breadth-first Search                |?|Sim|153|25 |\n",
    "|A* (Euclidean)                      |?|Sim|58 |25 |\n",
    "|Greedy Best-first Search (Euclidean)|?|Sim|26 |27 |\n",
    "|A* (Manhattan)                      |?|Sim|49 |25 |\n",
    "|Greedy Best-first Search (Manhattan)|?|Sim|26 |25 |\n",
    "|Hill Climbing                       |?|Não|   |   |\n",
    "\n",
    "### *normalLayout*\n",
    "\n",
    "|Algoritmo|Otimalidade|Completude|No. nós expandidos|No. nós visitados|\n",
    "|---|---|---|---|---|\n",
    "|Depth-first Search                  |?|Não|214|140|\n",
    "|Breadth-first Search                |?|Sim|203|30 |\n",
    "|A* (Euclidean)                      |?|Sim|109|30 |\n",
    "|Greedy Best-first Search (Euclidean)|?|Sim|48 |30 |\n",
    "|A* (Manhattan)                      |?|Sim|85 |30 |\n",
    "|Greedy Best-first Search (Manhattan)|?|Sim|31 |32 |\n",
    "|Hill Climbing                       |?|Não|   |   |\n",
    "\n",
    "### *hardLayout*\n",
    "\n",
    "|Algoritmo|Otimalidade|Completude|No. nós expandidos|No. nós visitados|\n",
    "|---|---|---|---|---|\n",
    "|Depth-first Search                  |?|Sim|79 |73|\n",
    "|Breadth-first Search                |?|Sim|336|49|\n",
    "|A* (Euclidean)                      |?|Sim|263|49|\n",
    "|Greedy Best-first Search (Euclidean)|?|Sim|72 |49|\n",
    "|A* (Manhattan)                      |?|Sim|202|49|\n",
    "|Greedy Best-first Search (Manhattan)|?|Sim|61 |53|\n",
    "|Hill Climbing                       |?|Não|   |  |"
   ]
  },
  {
   "cell_type": "markdown",
   "metadata": {},
   "source": [
    "# Conclusão\n",
    "\n",
    "- Depth-first search não completou nos layouts *easy* e *normal* devido a ordem que os nós são inseridos na pilha. Nestes casos, é inevitável o encontro do Pacman com um Ghost. O caso *hard*, apesar da maior distância, se encontra em um caminho ótimo.\n",
    "- Breadth-first search e A* expandiram mais nós que os outros algoritmos, como previsto pela complexidade de espaço.\n",
    "- Greedy Best-first search obteve melhores resultados em todos os casos (com ambas as heurísticas) devido ao layout do labirinto escolhido, que mostrou-se favorável a uma exploração gulosa. "
   ]
  },
  {
   "cell_type": "markdown",
   "metadata": {},
   "source": [
    "# Bibliografia\n",
    "\n",
    "**[1]** Pac-man - Wikipedia. URL: https://en.wikipedia.org/wiki/Pac-Man\n",
    "\n",
    "**[2]** Project 1. URL: https://drive.google.com/file/d/187lgVekPC0kBmA2AjOm-KkV8Q_lFLeoH/view\n",
    "\n",
    "**[3]** Search for AIMA 4th edition - Implementation of search algorithms and search problems for AIMA. URLs: https://github.com/aimacode/aima-python/blob/master/search4e.ipynb, https://github.com/aimacode/aima-python/blob/master/search.ipynb\n",
    "\n",
    "**[4]** UC Berkeley CS188 Intro to AI -- Course Materials. URL: http://ai.berkeley.edu/search.html\n",
    "\n",
    "**[5]** *tkint* documentation. URL: https://docs.python.org/3/library/tkinter.html\n",
    "\n",
    "**[6]** Pac-Man Maze Generation. URL: https://shaunlebron.github.io/pacman-mazegen"
   ]
  }
 ],
 "metadata": {
  "kernelspec": {
   "display_name": "Python 3",
   "language": "python",
   "name": "python3"
  },
  "language_info": {
   "codemirror_mode": {
    "name": "ipython",
    "version": 3
   },
   "file_extension": ".py",
   "mimetype": "text/x-python",
   "name": "python",
   "nbconvert_exporter": "python",
   "pygments_lexer": "ipython3",
   "version": "3.8.1"
  }
 },
 "nbformat": 4,
 "nbformat_minor": 4
}
