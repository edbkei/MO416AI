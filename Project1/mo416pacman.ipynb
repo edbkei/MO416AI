{
 "cells": [
  {
   "cell_type": "markdown",
   "metadata": {},
   "source": [
    "# <center>MC906/MO416 - Introduction to Artificial Intelligence</center>\n",
    "# <center>Project 1 - Pacman with AI</center>\n",
    "# <center>Institute of Computing - Unicamp</center>\n",
    "# <center>Prof. Esther Colombini</center>\n",
    "\n",
    "### <center>Eduardo S. Ito (RA159086)</center>\n",
    "### <center>Lucas Peres  (RA 265193)</center>\n",
    "### <center>Thales E. Nazatto (RA 074388)</center>"
   ]
  },
  {
   "cell_type": "markdown",
   "metadata": {},
   "source": [
    "# Conteúdo\n",
    "\n",
    "1. Introdução\n",
    "    1. Descrição do problema\n",
    "2. Metodologia\n",
    "    1. Modelagem da solução\n",
    "        1. Requisitos\n",
    "        2. Implementação\n",
    "        3. Problema, agentes e ambiente\n",
    "    2. Algoritmos\n",
    "        1. Busca não-informada\n",
    "        2. Busca informada\n",
    "        3. Busca local (*Hill Climbing*)\n",
    "3. Resultados\n",
    "4. Conclusão\n",
    "5. Referências"
   ]
  },
  {
   "cell_type": "markdown",
   "metadata": {
    "jupyter": {
     "source_hidden": true
    }
   },
   "source": [
    "# Introdução\n",
    "**Pac-man** é um jogo para *Arcades* lançado em 1980 pela **Namco**, criado por Toru Iwatani e ilustrado na Figura 1. Nele, o jogador controla uma bolinha amarela (o *Pac-Man* do título) dentro de um labirinto que tem como objetivo comer todas as bolinhas brancas existentes nele enquanto é perseguido por 4 fantasmas de nomes *Blinky*, *Pinky*, *Inky* e *Clyde*. Na época, Iwatani criou o jogo para atrair pessoas de ambos os sexos, uma vez que os gêneros de jogos lançados nessa época, como jogos de guerra e esportes, eram majoritariamente pensados para agradar o público masculino. Tal estratégia se provou um grande sucesso, e *Pac-Man* se tornou uma das mais lucrativas franquias de todos os tempos, gerando mais de US$ 14 bilhões em receita até o ano de 2016 **[1]**.\n",
    "\n",
    "<img src=\"https://thumbs.web.sapo.io/?W=775&H=0&delay_optim=1&webp=1&epic=NGRiQ8y+7rDb2cocSbMwl47ynqxTFYLIDm2IhR5IZK5BFQooKY19ghBWe//2n+M5C2MgCiqhexDuDLBr/f/MrofnNA==\" height=\"240\" width=\"320\" alt=\"Tela do jogo Pac-Man\" title=\"Tela do jogo Pac-Man\" />\n",
    "<center><strong>Figura 1.</strong> Tela do jogo <i>Pac-Man</i></center>\n",
    "\n",
    "Uma dos grandes inovações para a época foi sua Inteligência Artificial. Cada fantasma se comportava de maneira diferente de acordo com os movimentos realizados pelo jogador, que poderiam ter a possibilidade de encurralá-lo. Enquanto *Blinky* perseguia *Pac-Man* diretamente, *Pinky* e *Inky* tentavam se posicionar a sua frente e *Clyde* alternava seus estados entre perseguir o *Pac-Man* e fugir dele. Tais comportamentos fizeram com que *Pac-Man* fosse um caso de estudos no ramo da Inteligência Artificial.\n",
    "\n",
    "\n",
    "\n",
    "Neste relatório, será mostrada uma modelagem do problema determinado em **[2]** utilizando 5 algoritmos de busca no contexto deste jogo, sendo 2 de busca não-informada (*Breadth-First Search* e *Depth-First Search*), 2 de busca informada (*Greedy Best-First Search* e *A*\\*) e 1 de busca local (*Hill Climbing*). Primeiro será detalhada como foi feita a modelagem do problema e as soluções aplicadas. Depois, serão feitos experimentos e dicussões para avaliar o comportamento dos algoritmos e, no final, as conclusões destes experimentos.\n",
    "\n",
    "## Descrição do problema\n",
    "\n",
    "Conforme determinado em **[2]**, o problema consiste em implementar 5 algoritmos diferentes de busca, sendo 2 de busca não-informada, 2 de busca informada (com 2 heurísticas diferentes) e 1 de busca local usando o *Pac-man* como tema, tendo como objetivo comer todas as bolinhas presentes no labirinto, caso consiga evitar os fantasmas. Dentre esses, é necessário avaliar critérios como otimalidade, completude e custo computacional para definir qual a melhor solução dentre elas.\n",
    "\n",
    "O labirinto é representado por um grid, também ilustrado na Figura 2, cujo tamanho e forma devem ser definidos. Deve ser definido também, além das posições das bolinhas que o *Pac-man* deve comer durante a execução do algoritmo, as posições de 3 fantasmas (que serão estáticos) e uma posição final de parada. É necessário especificar também a representação dos estados, as ações realizadas, o teste realizado para se chegar ao objetivo, o custo **g(x)** do caminho percorrido e as heurísticas utilizadas.\n",
    "\n",
    "<img src=\"https://shaunlebron.github.io/pacman-mazegen/img/origmaps_2x_print.png\" height=\"360\" width=\"480\" alt=\"Tela do jogo Pac-Man\" title=\"Tela do jogo Pac-Man\" />\n",
    "<center><strong>Figura 2.</strong> Exemplos de labirintos semelhantes <strong>[6]</strong></center>"
   ]
  },
  {
   "cell_type": "markdown",
   "metadata": {},
   "source": [
    "# Metodologia"
   ]
  },
  {
   "cell_type": "raw",
   "metadata": {},
   "source": [
    "\"\"\"AIMA Library Representation similar to UC Berkeley code\"\"\"\n",
    "class SimplePacmanProblem(Problem):\n",
    "    def __init__(self, initial=(0, 0), goal=(30, 30), obstacles=(), heuristic=euclidean_distance, **kwds):\n",
    "        Problem.__init__(self, initial=initial, goal=goal, **kwds)\n",
    "        self.obstacles = obstacles - {initial, goal}\n",
    "        self.heuristic = heuristic\n",
    "\n",
    "    directions = [(0, -1), (-1, 0), (1, 0), (0, 1)]\n",
    "\n",
    "    def action_cost(self, s, action, s1): return self.heuristic(s, s1)\n",
    "\n",
    "    def value(self, state): return -1 * np.linalg.norm(self.heuristic(state, self.goal))\n",
    "\n",
    "    def h(self, node): return self.heuristic(node.state, self.goal)\n",
    "\n",
    "    def result(self, state, action):\n",
    "        return action if action not in self.obstacles else state\n",
    "\n",
    "    def actions(self, state):\n",
    "        x, y = state\n",
    "        return {(x + dx, y + dy) for (dx, dy) in self.directions} - self.obstacles"
   ]
  },
  {
   "cell_type": "markdown",
   "metadata": {},
   "source": [
    "Nele, a classe **SimplePacmanProblem** é uma classe filha da classe **Problem**, que é passada para os algoritmos de busca encontrarem o melhor caminho. Como parâmetros em seu construtor há um valor inicial, final, obstáculos e heurística. **action_cost** é a função heurística utilizada para algoritmos de busca informada (ou **g(x)**), **h** é a função heurística utilizada para o *A*\\* (ou **h(x)**) e **value** é a função heurística utilizada para algoritmos de busca locais (ou **g(x)**). No AIMA, o heurística nos algoritmos de busca locais em seu código original é realizada em direção a um mínimo local. O valor de **directions** seria semelhante às ações que o *Pac-man* executaria no caminho, fazendo estados e ações serem tuplas no formato **(x,y)** e praticamente não tendo diferenciação.\n",
    "\n",
    "A classe semelhante no código utilizado neste projeto é a **PositionSearchProblem2**, que é uma classe filha da classe **SearchProblem2**, a qual é passada para os algoritmos de busca encontrarem o melhor caminho. Como parâmetros em seu construtor há um valor inicial, final, heurística e o estado do jogo, que guarda as posições das paredes, fantasmas, das bolinhas e do *Pac-man*. **getCostOfActions** é a função utilizada para determinar os estados através da função heurística para os algoritmos de busca informada e local (dependendo dos parâmetros utilizados pode ser **g(x)** ou **h(x)**). **getSuccessors** é a função que disponibiliza os nós sucessores da busca, semelhante a função **actions** presente na AIMA. Há ainda a função **isGoalState**, semelhante a função **goal_test** da classe **Problem**. A classe **Search2Agent** faz o papel de agente inteligente e a ligação entre problema, algoritmo de busca, estado do jogo e heurística.\n",
    "\n",
    "Um diagrama de classes com todas as classes presentes no código pode ser visto no PDF abaixo:\n"
   ]
  },
  {
   "cell_type": "code",
   "execution_count": 1,
   "metadata": {},
   "outputs": [
    {
     "name": "stdout",
     "output_type": "stream",
     "text": [
      "C:\\Users\\Thales E. Nazatto\\Documents\\Pós\\MO416A\\MO416AI\\Project1/modelling/modellingClasses.pdf\n"
     ]
    },
    {
     "data": {
      "text/plain": [
       "True"
      ]
     },
     "execution_count": 1,
     "metadata": {},
     "output_type": "execute_result"
    }
   ],
   "source": [
    "# This .pdf file shows class diagram that implements how the problem was modeled using game graphical interface. It is part\n",
    "# of how requirement [R4] and requirement [8] was modeling from Berkeley algorithm design base, and modification done\n",
    "# to comply with MO416 Project 1 requirements.\n",
    "import os\n",
    "cwd = os.getcwd()\n",
    "cwd=cwd+'/modelling/modellingClasses.pdf'\n",
    "print(cwd)\n",
    "import webbrowser\n",
    "webbrowser.open(r''+os.path.join('modelling','modellingClasses.pdf'))\n",
    "webbrowser.open(cwd)"
   ]
  },
  {
   "cell_type": "markdown",
   "metadata": {},
   "source": [
    "## Algoritmos\n",
    "\n",
    "## Precondição: bibliotecas numpy e tkinter instaladas\n",
    "\n",
    "### Busca não-informada\n",
    "\n",
    "#### Depth-First Search"
   ]
  },
  {
   "cell_type": "code",
   "execution_count": 32,
   "metadata": {},
   "outputs": [
    {
     "name": "stdout",
     "output_type": "stream",
     "text": [
      "[Search2Agent] using function dfs\n",
      "[Search2Agent] using problem type PositionSearchProblem2\n",
      "[R12] Initial position of pacman is (23, 29)\n",
      "[R10] Final goal position is (1, 3)\n",
      "[R11] Ghost Positions is/are [(9, 20), (15, 10), (26, 7)]\n",
      "Number of foods is 1\n",
      "[R15] has the game food? True\n",
      "[R16] Path found with total cost g(x) of 72 in 0.009758710861206055s\n",
      "[R13] Search nodes expanded: 79\n",
      "[R13] Nodes visited: [(23, 29), (22, 29), (21, 29), (20, 29), (19, 29), (18, 29), (17, 29), (16, 29), (15, 29), (14, 29), (13, 29), (12, 29), (11, 29), (10, 29), (9, 29), (8, 29), (7, 29), (6, 29), (5, 29), (4, 29), (3, 29), (2, 29), (1, 29), (1, 28), (1, 27), (1, 26), (1, 25), (1, 24), (1, 23), (1, 22), (1, 21), (1, 20), (2, 20), (3, 20), (4, 20), (5, 20), (6, 20), (6, 19), (6, 18), (6, 17), (6, 16), (5, 16), (4, 16), (3, 16), (2, 16), (1, 16), (1, 17), (1, 18), (1, 19), (3, 15), (3, 14), (3, 13), (2, 13), (1, 13), (1, 12), (1, 11), (1, 10), (2, 10), (3, 10), (3, 9), (3, 8), (3, 7), (2, 7), (1, 7), (4, 7), (5, 7), (6, 7), (6, 6), (6, 5), (6, 4), (6, 3), (6, 2), (6, 1), (5, 1), (4, 1), (3, 1), (2, 1), (1, 1), (1, 2), (1, 3)]\n",
      "[R13] Solution states: 73 - [(23, 29), (22, 29), (21, 29), (20, 29), (19, 29), (18, 29), (17, 29), (16, 29), (15, 29), (14, 29), (13, 29), (12, 29), (11, 29), (10, 29), (9, 29), (8, 29), (7, 29), (6, 29), (5, 29), (4, 29), (3, 29), (2, 29), (1, 29), (1, 28), (1, 27), (1, 26), (1, 25), (1, 24), (1, 23), (1, 22), (1, 21), (1, 20), (2, 20), (3, 20), (4, 20), (5, 20), (6, 20), (6, 19), (6, 18), (6, 17), (6, 16), (5, 16), (4, 16), (3, 16), (3, 15), (3, 14), (3, 13), (2, 13), (1, 13), (1, 12), (1, 11), (1, 10), (2, 10), (3, 10), (3, 9), (3, 8), (3, 7), (4, 7), (5, 7), (6, 7), (6, 6), (6, 5), (6, 4), (6, 3), (6, 2), (6, 1), (5, 1), (4, 1), (3, 1), (2, 1), (1, 1), (1, 2), (1, 3)]\n",
      "[R14] Solution actions: ['West', 'West', 'West', 'West', 'West', 'West', 'West', 'West', 'West', 'West', 'West', 'West', 'West', 'West', 'West', 'West', 'West', 'West', 'West', 'West', 'West', 'West', 'South', 'South', 'South', 'South', 'South', 'South', 'South', 'South', 'South', 'East', 'East', 'East', 'East', 'East', 'South', 'South', 'South', 'South', 'West', 'West', 'West', 'South', 'South', 'South', 'West', 'West', 'South', 'South', 'South', 'East', 'East', 'South', 'South', 'South', 'East', 'East', 'East', 'South', 'South', 'South', 'South', 'South', 'South', 'West', 'West', 'West', 'West', 'West', 'North', 'North']\n",
      "Pacman emerges victorious! Score: 438\n",
      "Average Score: 438.0\n",
      "Scores:        438.0\n",
      "Win Rate:      1/1 (1.00)\n",
      "Record:        Win\n"
     ]
    }
   ],
   "source": [
    "# [R1.1] Show dfs (depth first search) method.\n",
    "!python pacman.py -l defaultLayout -p Search2Agent -a fn=dfs -z .6"
   ]
  },
  {
   "cell_type": "markdown",
   "metadata": {},
   "source": [
    "#### Breadth-First Search"
   ]
  },
  {
   "cell_type": "code",
   "execution_count": 33,
   "metadata": {
    "scrolled": true
   },
   "outputs": [
    {
     "name": "stdout",
     "output_type": "stream",
     "text": [
      "[Search2Agent] using function bfs\n",
      "[Search2Agent] using problem type PositionSearchProblem2\n",
      "[R12] Initial position of pacman is (23, 29)\n",
      "[R10] Final goal position is (1, 3)\n",
      "[R11] Ghost Positions is/are [(9, 20), (15, 10), (26, 7)]\n",
      "Number of foods is 1\n",
      "[R15] has the game food? True\n",
      "[R16] Path found with total cost g(x) of 48 in 0.04782390594482422s\n",
      "[R13] Search nodes expanded: 336\n",
      "[R13] Nodes visited: [(23, 29), (23, 28), (24, 29), (22, 29), (23, 27), (25, 29), (21, 29), (23, 26), (26, 29), (20, 29), (22, 26), (26, 28), (19, 29), (21, 26), (26, 27), (18, 29), (21, 25), (26, 26), (17, 29), (21, 24), (26, 25), (16, 29), (21, 23), (26, 24), (15, 29), (22, 23), (20, 23), (26, 23), (15, 28), (14, 29), (23, 23), (19, 23), (26, 22), (15, 27), (13, 29), (23, 22), (18, 23), (26, 21), (15, 26), (12, 29), (23, 21), (18, 24), (18, 22), (17, 23), (26, 20), (16, 26), (12, 28), (11, 29), (23, 20), (18, 25), (18, 21), (16, 23), (26, 19), (25, 20), (17, 26), (12, 27), (10, 29), (24, 20), (22, 20), (18, 26), (18, 20), (15, 23), (26, 18), (12, 26), (9, 29), (21, 20), (18, 19), (14, 23), (26, 17), (11, 26), (8, 29), (21, 19), (18, 18), (17, 19), (13, 23), (26, 16), (10, 26), (7, 29), (21, 18), (18, 17), (16, 19), (12, 23), (25, 16), (9, 26), (6, 29), (21, 17), (18, 16), (15, 19), (11, 23), (24, 16), (9, 25), (5, 29), (21, 16), (18, 15), (19, 16), (14, 19), (10, 23), (24, 15), (23, 16), (9, 24), (4, 29), (22, 16), (20, 16), (18, 14), (14, 18), (13, 19), (9, 23), (24, 14), (4, 28), (3, 29), (18, 13), (14, 17), (13, 18), (12, 19), (9, 22), (8, 23), (24, 13), (4, 27), (2, 29), (18, 12), (17, 13), (14, 16), (15, 17), (13, 17), (11, 19), (9, 21), (7, 23), (25, 13), (23, 13), (4, 26), (1, 29), (18, 11), (16, 13), (14, 15), (15, 16), (13, 16), (16, 17), (12, 17), (10, 19), (9, 20), (6, 23), (26, 13), (22, 13), (5, 26), (1, 28), (18, 10), (15, 13), (15, 15), (13, 15), (16, 16), (12, 16), (11, 17), (9, 19), (6, 24), (5, 23), (26, 12), (21, 13), (6, 26), (1, 27), (18, 9), (19, 10), (17, 10), (14, 13), (16, 15), (12, 15), (11, 16), (9, 18), (6, 25), (4, 23), (26, 11), (21, 12), (1, 26), (18, 8), (20, 10), (16, 10), (13, 13), (11, 15), (9, 17), (4, 22), (26, 10), (21, 11), (1, 25), (18, 7), (21, 10), (15, 10), (12, 13), (9, 16), (4, 21), (25, 10), (1, 24), (18, 6), (21, 9), (15, 9), (11, 13), (9, 15), (8, 16), (4, 20), (24, 10), (1, 23), (18, 5), (21, 8), (15, 8), (10, 13), (9, 14), (7, 16), (5, 20), (3, 20), (24, 9), (1, 22), (18, 4), (21, 7), (15, 7), (9, 13), (6, 16), (6, 20), (2, 20), (24, 8), (1, 21), (17, 4), (21, 6), (22, 7), (14, 7), (9, 12), (6, 17), (5, 16), (6, 19), (1, 20), (24, 7), (16, 4), (21, 5), (23, 7), (13, 7), (9, 11), (6, 18), (4, 16), (1, 19), (24, 6), (25, 7), (15, 4), (21, 4), (12, 7), (9, 10), (3, 16), (1, 18), (24, 5), (26, 7), (15, 3), (14, 4), (21, 3), (12, 8), (9, 9), (10, 10), (8, 10), (3, 15), (2, 16), (1, 17), (24, 4), (15, 2), (13, 4), (21, 2), (12, 9), (9, 8), (11, 10), (7, 10), (3, 14), (1, 16), (25, 4), (15, 1), (12, 4), (21, 1), (12, 10), (9, 7), (6, 10), (3, 13), (26, 4), (16, 1), (12, 3), (11, 4), (22, 1), (20, 1), (9, 6), (6, 11), (6, 9), (4, 13), (2, 13), (26, 3), (17, 1), (12, 2), (10, 4), (23, 1), (19, 1), (9, 5), (6, 12), (6, 8), (5, 13), (1, 13), (26, 2), (18, 1), (12, 1), (9, 4), (24, 1), (6, 13), (6, 7), (1, 12), (26, 1), (11, 1), (25, 1), (6, 6), (5, 7), (1, 11), (10, 1), (6, 5), (4, 7), (1, 10), (9, 1), (6, 4), (3, 7), (2, 10), (8, 1), (6, 3), (3, 8), (3, 6), (2, 7), (3, 10), (7, 1), (6, 2), (3, 9), (3, 5), (1, 7), (6, 1), (3, 4), (5, 1), (2, 4), (4, 1), (1, 4), (3, 1), (1, 3)]\n",
      "[R13] Solution states: 49 - [(23, 29), (23, 28), (23, 27), (23, 26), (22, 26), (21, 26), (21, 25), (21, 24), (21, 23), (20, 23), (19, 23), (18, 23), (18, 22), (18, 21), (18, 20), (18, 19), (18, 18), (18, 17), (18, 16), (18, 15), (18, 14), (18, 13), (17, 13), (16, 13), (15, 13), (14, 13), (13, 13), (12, 13), (11, 13), (10, 13), (9, 13), (9, 12), (9, 11), (9, 10), (8, 10), (7, 10), (6, 10), (6, 9), (6, 8), (6, 7), (5, 7), (4, 7), (3, 7), (3, 6), (3, 5), (3, 4), (2, 4), (1, 4), (1, 3)]\n",
      "[R14] Solution actions: ['South', 'South', 'South', 'West', 'West', 'South', 'South', 'South', 'West', 'West', 'West', 'South', 'South', 'South', 'South', 'South', 'South', 'South', 'South', 'South', 'South', 'West', 'West', 'West', 'West', 'West', 'West', 'West', 'West', 'West', 'South', 'South', 'South', 'West', 'West', 'West', 'South', 'South', 'South', 'West', 'West', 'West', 'South', 'South', 'South', 'West', 'West', 'South']\n",
      "Pacman emerges victorious! Score: 462\n",
      "Average Score: 462.0\n",
      "Scores:        462.0\n",
      "Win Rate:      1/1 (1.00)\n",
      "Record:        Win\n"
     ]
    }
   ],
   "source": [
    "# [R1.2] Show bfs (breadth first search) method.\n",
    "!python pacman.py -l defaultLayout -p Search2Agent -a fn=bfs -z .5"
   ]
  },
  {
   "cell_type": "markdown",
   "metadata": {},
   "source": [
    "### Busca informada\n",
    "\n",
    "#### A*"
   ]
  },
  {
   "cell_type": "code",
   "execution_count": 34,
   "metadata": {
    "scrolled": true
   },
   "outputs": [
    {
     "name": "stdout",
     "output_type": "stream",
     "text": [
      "[Search2Agent] using function astar and [R16] heuristic manhattanHeuristic\n",
      "[Search2Agent] using problem type PositionSearchProblem2\n",
      "[R12] Initial position of pacman is (23, 29)\n",
      "[R10] Final goal position is (1, 3)\n",
      "[R11] Ghost Positions is/are [(9, 20), (15, 10), (26, 7)]\n",
      "Number of foods is 1\n",
      "[R15] has the game food? True\n",
      "[R16] Path found with total cost g(x) of 48 in 0.040992021560668945s\n",
      "[R13] Search nodes expanded: 202\n",
      "[R13] Nodes visited: [(23, 29), (23, 28), (22, 29), (23, 27), (21, 29), (23, 26), (20, 29), (22, 26), (19, 29), (21, 26), (18, 29), (21, 25), (17, 29), (21, 24), (16, 29), (21, 23), (15, 29), (20, 23), (15, 28), (14, 29), (19, 23), (15, 27), (13, 29), (18, 23), (15, 26), (12, 29), (18, 22), (17, 23), (12, 28), (11, 29), (18, 21), (16, 23), (12, 27), (10, 29), (18, 20), (15, 23), (12, 26), (9, 29), (18, 19), (14, 23), (11, 26), (8, 29), (18, 18), (17, 19), (13, 23), (10, 26), (7, 29), (18, 17), (16, 19), (12, 23), (9, 26), (6, 29), (18, 16), (15, 19), (11, 23), (9, 25), (5, 29), (18, 15), (14, 19), (10, 23), (9, 24), (4, 29), (18, 14), (14, 18), (13, 19), (9, 23), (4, 28), (3, 29), (18, 13), (14, 17), (13, 18), (12, 19), (9, 22), (8, 23), (4, 27), (2, 29), (18, 12), (17, 13), (14, 16), (13, 17), (11, 19), (9, 21), (7, 23), (4, 26), (1, 29), (18, 11), (16, 13), (14, 15), (13, 16), (12, 17), (10, 19), (9, 20), (6, 23), (1, 28), (18, 10), (15, 13), (13, 15), (12, 16), (11, 17), (9, 19), (5, 23), (1, 27), (18, 9), (17, 10), (14, 13), (12, 15), (11, 16), (9, 18), (4, 23), (1, 26), (18, 8), (16, 10), (13, 13), (11, 15), (9, 17), (4, 22), (1, 25), (18, 7), (15, 10), (12, 13), (9, 16), (4, 21), (1, 24), (18, 6), (15, 9), (11, 13), (9, 15), (8, 16), (4, 20), (1, 23), (18, 5), (15, 8), (10, 13), (9, 14), (7, 16), (3, 20), (1, 22), (18, 4), (15, 7), (9, 13), (6, 16), (2, 20), (1, 21), (17, 4), (14, 7), (9, 12), (5, 16), (1, 20), (16, 4), (13, 7), (9, 11), (4, 16), (1, 19), (15, 4), (12, 7), (9, 10), (3, 16), (1, 18), (15, 3), (14, 4), (9, 9), (8, 10), (3, 15), (2, 16), (1, 17), (13, 4), (9, 8), (7, 10), (3, 14), (1, 16), (12, 4), (9, 7), (6, 10), (3, 13), (12, 3), (11, 4), (9, 6), (6, 9), (2, 13), (10, 4), (9, 5), (6, 8), (1, 13), (9, 4), (6, 7), (1, 12), (6, 6), (5, 7), (1, 11), (6, 5), (4, 7), (1, 10), (6, 4), (3, 7), (6, 3), (3, 6), (2, 7), (3, 5), (1, 7), (3, 4), (2, 4), (1, 4), (1, 3)]\n",
      "[R13] Solution states: 49 - [(23, 29), (23, 28), (23, 27), (23, 26), (22, 26), (21, 26), (21, 25), (21, 24), (21, 23), (20, 23), (19, 23), (18, 23), (18, 22), (18, 21), (18, 20), (18, 19), (18, 18), (18, 17), (18, 16), (18, 15), (18, 14), (18, 13), (17, 13), (16, 13), (15, 13), (14, 13), (13, 13), (12, 13), (11, 13), (10, 13), (9, 13), (9, 12), (9, 11), (9, 10), (8, 10), (7, 10), (6, 10), (6, 9), (6, 8), (6, 7), (5, 7), (4, 7), (3, 7), (3, 6), (3, 5), (3, 4), (2, 4), (1, 4), (1, 3)]\n",
      "[R14] Solution actions: ['South', 'South', 'South', 'West', 'West', 'South', 'South', 'South', 'West', 'West', 'West', 'South', 'South', 'South', 'South', 'South', 'South', 'South', 'South', 'South', 'South', 'West', 'West', 'West', 'West', 'West', 'West', 'West', 'West', 'West', 'South', 'South', 'South', 'West', 'West', 'West', 'South', 'South', 'South', 'West', 'West', 'West', 'South', 'South', 'South', 'West', 'West', 'South']\n",
      "Pacman emerges victorious! Score: 462\n",
      "Average Score: 462.0\n",
      "Scores:        462.0\n",
      "Win Rate:      1/1 (1.00)\n",
      "Record:        Win\n"
     ]
    }
   ],
   "source": [
    "# [R2.1] Show A* and Manhattan heuristic method.\n",
    "!python pacman.py -l defaultLayout -p Search2Agent -a fn=astar,heuristic=manhattanHeuristic -z .5"
   ]
  },
  {
   "cell_type": "code",
   "execution_count": 19,
   "metadata": {
    "scrolled": true
   },
   "outputs": [
    {
     "name": "stdout",
     "output_type": "stream",
     "text": [
      "[Search2Agent] using function astar and [R16] heuristic euclideanHeuristic\n",
      "[Search2Agent] using problem type PositionSearchProblem2\n",
      "[R12] Initial position of pacman is (23, 29)\n",
      "[R10] Final goal position is (1, 3)\n",
      "[R11] Ghost Positions is/are [(9, 20), (15, 10), (26, 7)]\n",
      "Number of foods is 1\n",
      "[R15] has the game food? True\n",
      "[R16] Path found with total cost g(x) of 48 in 0.053681373596191406s\n",
      "[R13] Search nodes expanded: 263\n",
      "[R13] Nodes visited: [(23, 29), (23, 28), (22, 29), (23, 27), (21, 29), (23, 26), (22, 26), (20, 29), (21, 26), (19, 29), (24, 29), (21, 25), (21, 24), (18, 29), (21, 23), (17, 29), (20, 23), (19, 23), (16, 29), (18, 23), (25, 29), (18, 22), (15, 29), (17, 23), (15, 28), (18, 21), (15, 27), (15, 26), (22, 23), (16, 23), (18, 20), (14, 29), (18, 19), (15, 23), (17, 19), (13, 29), (18, 18), (14, 23), (16, 19), (18, 24), (18, 17), (26, 29), (12, 29), (15, 19), (12, 28), (13, 23), (26, 28), (12, 27), (18, 16), (16, 26), (12, 26), (14, 19), (26, 27), (23, 23), (18, 15), (12, 23), (14, 18), (11, 29), (26, 26), (13, 19), (23, 22), (11, 26), (14, 17), (13, 18), (18, 14), (26, 25), (11, 23), (14, 16), (12, 19), (23, 21), (13, 17), (10, 29), (26, 24), (14, 15), (13, 16), (10, 26), (18, 13), (18, 25), (23, 20), (12, 17), (11, 19), (17, 13), (10, 23), (13, 15), (26, 23), (17, 26), (22, 20), (16, 13), (12, 16), (9, 29), (19, 16), (11, 17), (15, 13), (18, 12), (21, 20), (12, 15), (9, 26), (10, 19), (26, 22), (11, 16), (14, 13), (9, 25), (9, 24), (9, 23), (21, 19), (9, 22), (11, 15), (13, 13), (9, 21), (18, 11), (9, 20), (15, 17), (26, 21), (12, 13), (9, 19), (8, 29), (21, 18), (9, 18), (15, 16), (9, 17), (11, 13), (8, 23), (26, 20), (9, 16), (18, 10), (25, 20), (21, 17), (9, 15), (15, 15), (10, 13), (17, 10), (16, 10), (18, 26), (24, 20), (9, 14), (15, 10), (26, 19), (7, 29), (8, 16), (9, 13), (21, 16), (7, 23), (20, 16), (18, 9), (9, 12), (26, 18), (15, 9), (9, 11), (7, 16), (6, 29), (16, 17), (6, 23), (9, 10), (26, 17), (18, 8), (16, 16), (15, 8), (8, 10), (6, 16), (9, 9), (26, 16), (16, 15), (7, 10), (25, 16), (5, 29), (19, 10), (5, 23), (24, 16), (9, 8), (18, 7), (23, 16), (15, 7), (5, 16), (14, 7), (6, 10), (13, 7), (22, 16), (12, 7), (6, 9), (24, 15), (9, 7), (6, 8), (4, 29), (4, 28), (4, 27), (4, 26), (4, 23), (4, 22), (4, 21), (18, 6), (4, 20), (4, 16), (10, 10), (6, 7), (24, 14), (9, 6), (6, 24), (5, 7), (6, 6), (6, 17), (4, 7), (3, 29), (24, 13), (12, 8), (18, 5), (3, 20), (3, 16), (3, 15), (23, 13), (3, 14), (3, 13), (9, 5), (20, 10), (22, 13), (5, 26), (21, 13), (6, 5), (6, 11), (5, 20), (3, 7), (3, 6), (3, 5), (21, 12), (2, 29), (18, 4), (2, 20), (17, 4), (16, 4), (15, 4), (2, 16), (14, 4), (13, 4), (12, 4), (2, 13), (11, 4), (10, 4), (9, 4), (6, 4), (2, 7), (11, 10), (3, 4), (2, 4), (4, 13), (12, 9), (6, 26), (21, 11), (6, 25), (6, 20), (6, 19), (6, 18), (25, 13), (1, 29), (1, 20), (15, 3), (1, 16), (12, 3), (1, 13), (6, 3), (1, 7), (1, 4), (1, 28), (1, 19), (1, 12), (1, 3)]\n",
      "[R13] Solution states: 49 - [(23, 29), (23, 28), (23, 27), (23, 26), (22, 26), (21, 26), (21, 25), (21, 24), (21, 23), (20, 23), (19, 23), (18, 23), (18, 22), (18, 21), (18, 20), (18, 19), (18, 18), (18, 17), (18, 16), (18, 15), (18, 14), (18, 13), (17, 13), (16, 13), (15, 13), (14, 13), (13, 13), (12, 13), (11, 13), (10, 13), (9, 13), (9, 12), (9, 11), (9, 10), (8, 10), (7, 10), (6, 10), (6, 9), (6, 8), (6, 7), (5, 7), (4, 7), (3, 7), (3, 6), (3, 5), (3, 4), (2, 4), (1, 4), (1, 3)]\n",
      "[R14] Solution actions: ['South', 'South', 'South', 'West', 'West', 'South', 'South', 'South', 'West', 'West', 'West', 'South', 'South', 'South', 'South', 'South', 'South', 'South', 'South', 'South', 'South', 'West', 'West', 'West', 'West', 'West', 'West', 'West', 'West', 'West', 'South', 'South', 'South', 'West', 'West', 'West', 'South', 'South', 'South', 'West', 'West', 'West', 'South', 'South', 'South', 'West', 'West', 'South']\n",
      "Pacman emerges victorious! Score: 462\n",
      "Average Score: 462.0\n",
      "Scores:        462.0\n",
      "Win Rate:      1/1 (1.00)\n",
      "Record:        Win\n"
     ]
    }
   ],
   "source": [
    "# [R2.1] Show A* and Euclidean heuristic method.\n",
    "!python pacman.py -l defaultLayout -p Search2Agent -a fn=astar,heuristic=euclideanHeuristic -z .6"
   ]
  },
  {
   "cell_type": "markdown",
   "metadata": {},
   "source": [
    "#### Greedy Best-First Search"
   ]
  },
  {
   "cell_type": "code",
   "execution_count": 20,
   "metadata": {},
   "outputs": [
    {
     "name": "stdout",
     "output_type": "stream",
     "text": [
      "[Search2Agent] using function gbfs and [R16] heuristic manhattanHeuristic\n",
      "[Search2Agent] using problem type PositionSearchProblem2\n",
      "[R12] Initial position of pacman is (23, 29)\n",
      "[R10] Final goal position is (1, 3)\n",
      "[R11] Ghost Positions is/are [(9, 20), (15, 10), (26, 7)]\n",
      "Number of foods is 1\n",
      "[R15] has the game food? True\n",
      "[R16] Path found with total cost g(x) of 52 in 0.00780797004699707s\n",
      "[R13] Search nodes expanded: 61\n",
      "[R13] Nodes visited: [(23, 29), (23, 28), (23, 27), (23, 26), (22, 26), (21, 26), (21, 25), (21, 24), (21, 23), (20, 23), (19, 23), (18, 23), (18, 22), (18, 21), (18, 20), (18, 19), (18, 18), (18, 17), (18, 16), (18, 15), (18, 14), (18, 13), (18, 12), (18, 11), (18, 10), (18, 9), (18, 8), (18, 7), (18, 6), (18, 5), (18, 4), (17, 4), (16, 4), (15, 4), (15, 3), (14, 4), (13, 4), (12, 4), (12, 3), (11, 4), (10, 4), (9, 4), (9, 5), (9, 6), (12, 2), (9, 7), (12, 1), (11, 1), (10, 1), (9, 1), (8, 1), (7, 1), (6, 1), (6, 2), (6, 3), (5, 1), (4, 1), (3, 1), (2, 1), (1, 1), (1, 2), (1, 3)]\n",
      "[R13] Solution states: 53 - [(23, 29), (23, 28), (23, 27), (23, 26), (22, 26), (21, 26), (21, 25), (21, 24), (21, 23), (20, 23), (19, 23), (18, 23), (18, 22), (18, 21), (18, 20), (18, 19), (18, 18), (18, 17), (18, 16), (18, 15), (18, 14), (18, 13), (18, 12), (18, 11), (18, 10), (18, 9), (18, 8), (18, 7), (18, 6), (18, 5), (18, 4), (17, 4), (16, 4), (15, 4), (14, 4), (13, 4), (12, 4), (12, 3), (12, 2), (12, 1), (11, 1), (10, 1), (9, 1), (8, 1), (7, 1), (6, 1), (5, 1), (4, 1), (3, 1), (2, 1), (1, 1), (1, 2), (1, 3)]\n",
      "[R14] Solution actions: ['South', 'South', 'South', 'West', 'West', 'South', 'South', 'South', 'West', 'West', 'West', 'South', 'South', 'South', 'South', 'South', 'South', 'South', 'South', 'South', 'South', 'South', 'South', 'South', 'South', 'South', 'South', 'South', 'South', 'South', 'West', 'West', 'West', 'West', 'West', 'West', 'South', 'South', 'South', 'West', 'West', 'West', 'West', 'West', 'West', 'West', 'West', 'West', 'West', 'West', 'North', 'North']\n",
      "Pacman emerges victorious! Score: 458\n",
      "Average Score: 458.0\n",
      "Scores:        458.0\n",
      "Win Rate:      1/1 (1.00)\n",
      "Record:        Win\n"
     ]
    }
   ],
   "source": [
    "#[R2.2] Show gbfs (greedy best first search) and Manhattan heuristic method.\n",
    "!python pacman.py -l defaultLayout -p Search2Agent -a fn=gbfs,heuristic=manhattanHeuristic -z .6"
   ]
  },
  {
   "cell_type": "code",
   "execution_count": 35,
   "metadata": {},
   "outputs": [
    {
     "name": "stdout",
     "output_type": "stream",
     "text": [
      "[Search2Agent] using function gbfs and [R16] heuristic euclideanHeuristic\n",
      "[Search2Agent] using problem type PositionSearchProblem2\n",
      "[R12] Initial position of pacman is (23, 29)\n",
      "[R10] Final goal position is (1, 3)\n",
      "[R11] Ghost Positions is/are [(9, 20), (15, 10), (26, 7)]\n",
      "Number of foods is 1\n",
      "[R15] has the game food? True\n",
      "[R16] Path found with total cost g(x) of 48 in 0.010736942291259766s\n",
      "[R13] Search nodes expanded: 72\n",
      "[R13] Nodes visited: [(23, 29), (23, 28), (23, 27), (23, 26), (22, 26), (21, 26), (21, 25), (21, 24), (21, 23), (20, 23), (19, 23), (18, 23), (18, 22), (18, 21), (18, 20), (18, 19), (17, 19), (16, 19), (15, 19), (14, 19), (14, 18), (14, 17), (14, 16), (14, 15), (13, 15), (12, 15), (11, 15), (11, 16), (12, 16), (11, 17), (13, 16), (12, 17), (13, 17), (15, 15), (15, 16), (13, 18), (16, 15), (15, 17), (16, 16), (13, 19), (12, 19), (11, 19), (10, 19), (9, 19), (9, 18), (9, 17), (9, 16), (9, 15), (9, 14), (9, 13), (9, 12), (9, 11), (9, 10), (8, 10), (7, 10), (6, 10), (6, 9), (6, 8), (6, 7), (5, 7), (4, 7), (3, 7), (3, 6), (3, 5), (3, 4), (2, 4), (1, 4), (1, 3)]\n",
      "[R13] Solution states: 49 - [(23, 29), (23, 28), (23, 27), (23, 26), (22, 26), (21, 26), (21, 25), (21, 24), (21, 23), (20, 23), (19, 23), (18, 23), (18, 22), (18, 21), (18, 20), (18, 19), (17, 19), (16, 19), (15, 19), (14, 19), (13, 19), (12, 19), (11, 19), (10, 19), (9, 19), (9, 18), (9, 17), (9, 16), (9, 15), (9, 14), (9, 13), (9, 12), (9, 11), (9, 10), (8, 10), (7, 10), (6, 10), (6, 9), (6, 8), (6, 7), (5, 7), (4, 7), (3, 7), (3, 6), (3, 5), (3, 4), (2, 4), (1, 4), (1, 3)]\n",
      "[R14] Solution actions: ['South', 'South', 'South', 'West', 'West', 'South', 'South', 'South', 'West', 'West', 'West', 'South', 'South', 'South', 'South', 'West', 'West', 'West', 'West', 'West', 'West', 'West', 'West', 'West', 'South', 'South', 'South', 'South', 'South', 'South', 'South', 'South', 'South', 'West', 'West', 'West', 'South', 'South', 'South', 'West', 'West', 'West', 'South', 'South', 'South', 'West', 'West', 'South']\n",
      "Pacman emerges victorious! Score: 462\n",
      "Average Score: 462.0\n",
      "Scores:        462.0\n",
      "Win Rate:      1/1 (1.00)\n",
      "Record:        Win\n"
     ]
    }
   ],
   "source": [
    "##[R2.2] Show gbfs (greedy best first search) and Euclidean heuristic method.\n",
    "!python pacman.py -l defaultLayout -p Search2Agent -a fn=gbfs,heuristic=euclideanHeuristic -z .5"
   ]
  },
  {
   "cell_type": "markdown",
   "metadata": {},
   "source": [
    "### Busca local (*Hill Climbing*)"
   ]
  },
  {
   "cell_type": "code",
   "execution_count": 118,
   "metadata": {},
   "outputs": [],
   "source": [
    "from re import search\n",
    "from subprocess import run\n",
    "\n",
    "def run_hcs(layout):\n",
    "    '''\n",
    "    Extrai o número de nós visitados e expandidos da\n",
    "    stdout do comando pacman.py.\n",
    "    '''\n",
    "    nodes_visited = 0\n",
    "    nodes_expanded = 0\n",
    "    output = run(['python', 'pacman.py', \n",
    "                  '-l', layout, \n",
    "                  '-p', 'Search2Agent', \n",
    "                  '-a', 'fn=hcs', \n",
    "                  '-z', '.6'], capture_output=True)\n",
    "    results = output.stdout.decode('utf-8').split('\\n')\n",
    "    for result in results:\n",
    "        matchstates = search('Solution states: ', result)\n",
    "        if matchstates:\n",
    "            nodes_visited = int(result[matchstates.end():].split(' ')[0])\n",
    "        matchnodes = search('nodes expanded: ', result)\n",
    "        if matchnodes:\n",
    "            nodes_expanded = int(result[matchnodes.end():])\n",
    "    return nodes_visited, nodes_expanded\n",
    "\n",
    "def mean_hcs(n, layout):\n",
    "    '''\n",
    "    Executa Hill Climbing n vezes no layout escolhido\n",
    "    e retorna a média de nós visitados e expandidos\n",
    "    nas n execuções.\n",
    "    '''\n",
    "    totalvisited = 0\n",
    "    totalexpanded = 0\n",
    "    for _ in range(n):\n",
    "        nvisited, nexpanded = run_hcs('easyLayout')\n",
    "        totalvisited += nvisited\n",
    "        totalexpanded += nexpanded\n",
    "    meanvisited = totalvisited / n\n",
    "    meanexpanded = totalexpanded / n\n",
    "    print(f'{layout}\\tNo. nodes visited (mean): {meanvisited}')\n",
    "    print(f'{layout}t\\tNo. nodes expanded (mean): {meanexpanded}')\n",
    "    return meanvisited, meanexpanded"
   ]
  },
  {
   "cell_type": "code",
   "execution_count": 119,
   "metadata": {},
   "outputs": [
    {
     "name": "stdout",
     "output_type": "stream",
     "text": [
      "NODES VISITED 55\n",
      "NODES VISITED 73\n",
      "easyLayout\tNo. nodes visited (mean): 64.0\n",
      "easyLayoutt\tNo. nodes expanded (mean): 148.0\n"
     ]
    }
   ],
   "source": [
    "nvisited, nexpanded = mean_hcs(2, 'easyLayout')"
   ]
  },
  {
   "cell_type": "markdown",
   "metadata": {},
   "source": [
    "# Resultados\n",
    "\n",
    "### *defaultLayout*\n",
    "\n",
    "|Algoritmo|Otimalidade|Completude|No. nós expandidos|No. nós visitados|Complexidade|\n",
    "|---|---|---|---|---|---|\n",
    "|Depth-first Search                  |Não|Sim|79 |73|$O(.)$|\n",
    "|Breadth-first Search                |Não|Não|336|49|$O(.)$|\n",
    "|A* (Euclidean)                      |Sim|Sim|263|49|$O(.)$|\n",
    "|Greedy Best-first Search (Euclidean)|Não|Sim|72 |49|$O(.)$|\n",
    "|A* (Manhattan)                      |Sim|Sim|202|49|$O(.)$|\n",
    "|Greedy Best-first Search (Manhattan)|Não|Sim|61 |53|$O(.)$|\n",
    "|Hill Climbing                       |Não|Sim| ? |? |$O(.)$|\n",
    "\n",
    "\n",
    "### *easyLayout*\n",
    "\n",
    "### *moderateLayout*\n",
    "\n",
    "### *hardLayout*\n",
    "Apenas Himm Climbing consegue, e por sorte."
   ]
  },
  {
   "cell_type": "markdown",
   "metadata": {},
   "source": [
    "# Vídeo"
   ]
  },
  {
   "cell_type": "markdown",
   "metadata": {},
   "source": []
  },
  {
   "cell_type": "code",
   "execution_count": 40,
   "metadata": {},
   "outputs": [],
   "source": [
    "import os\n",
    "def play_movie(path):\n",
    "    from os import startfile\n",
    "    startfile(path)\n",
    "    \n",
    "class Video(object):\n",
    "    def __init__(self,path):\n",
    "        self.path = path\n",
    "\n",
    "    def play(self):\n",
    "        from os import startfile\n",
    "        startfile(self.path)\n",
    "\n",
    "class Movie_MP4(Video):\n",
    "    type = \"MP4\"\n",
    "\n",
    "path =  os.getcwd()\n",
    "path = path+\"\\\\video\\mo416Project1video.mp4\"\n",
    "movie = Movie_MP4(path)\n",
    "movie.play()\n",
    "\n",
    "# Note: Not all use cases were displayed in video as there is a limitation of 25MB storage in github."
   ]
  },
  {
   "cell_type": "code",
   "execution_count": 38,
   "metadata": {},
   "outputs": [
    {
     "ename": "SyntaxError",
     "evalue": "invalid syntax (<ipython-input-38-aa7878771861>, line 3)",
     "output_type": "error",
     "traceback": [
      "\u001b[1;36m  File \u001b[1;32m\"<ipython-input-38-aa7878771861>\"\u001b[1;36m, line \u001b[1;32m3\u001b[0m\n\u001b[1;33m    **[1]** Pac-man - Wikipedia. URL: https://en.wikipedia.org/wiki/Pac-Man\u001b[0m\n\u001b[1;37m     ^\u001b[0m\n\u001b[1;31mSyntaxError\u001b[0m\u001b[1;31m:\u001b[0m invalid syntax\n"
     ]
    }
   ],
   "source": [
    "# Bibliografia\n",
    "\n",
    "**[1]** Pac-man - Wikipedia. URL: https://en.wikipedia.org/wiki/Pac-Man\n",
    "\n",
    "**[2]** Project 1. URL: https://drive.google.com/file/d/187lgVekPC0kBmA2AjOm-KkV8Q_lFLeoH/view\n",
    "\n",
    "**[3]** Search for AIMA 4th edition - Implementation of search algorithms and search problems for AIMA. URLs: https://github.com/aimacode/aima-python/blob/master/search4e.ipynb, https://github.com/aimacode/aima-python/blob/master/search.ipynb\n",
    "\n",
    "**[4]** UC Berkeley CS188 Intro to AI -- Course Materials. URL: http://ai.berkeley.edu/search.html\n",
    "\n",
    "**[5]** *tkint* documentation. URL: https://docs.python.org/3/library/tkinter.html\n",
    "\n",
    "**[6]** Pac-Man Maze Generation. URL: https://shaunlebron.github.io/pacman-mazegen"
   ]
  },
  {
   "cell_type": "code",
   "execution_count": null,
   "metadata": {},
   "outputs": [],
   "source": []
  }
 ],
 "metadata": {
  "kernelspec": {
   "display_name": "Python 3",
   "language": "python",
   "name": "python3"
  },
  "language_info": {
   "codemirror_mode": {
    "name": "ipython",
    "version": 3
   },
   "file_extension": ".py",
   "mimetype": "text/x-python",
   "name": "python",
   "nbconvert_exporter": "python",
   "pygments_lexer": "ipython3",
   "version": "3.8.1"
  }
 },
 "nbformat": 4,
 "nbformat_minor": 4
}
