{
 "cells": [
  {
   "cell_type": "code",
   "execution_count": 4,
   "metadata": {},
   "outputs": [],
   "source": [
    "# Project 1 - Deadline: 04/05/2020\n",
    "\n",
    "# Students:\n",
    "# Eduardo S. Ito RA159086\n",
    "# João Paulo RA ....\n",
    "# Lucas Peres RA ....\n",
    "# Thales RA ....\n",
    "\n",
    "# CHAPTER 1: REQUIREMENT SPECIFICATION\n",
    "\n",
    "# 1. Goal\n",
    "\n",
    "# [R1] Two search methods without information\n",
    "# [R2] Two informed search methods with 2 distinct heuristics\n",
    "# [R3] One local search method\n",
    "\n",
    "# The work consists of finding an adequate solution to the chosen problem, evaluating it according to: computational\n",
    "#cost, completeness, optimality. Your are required to clearly define:\n",
    "\n",
    "# [R4] How the problem was modeled\n",
    "# [R5] Implementation specifics and restrictions\n",
    "\n",
    "# The work consists of ending an adequate solution to the chosen problem, evaluating it according to: [R6]computational\n",
    "#cost, [R7] completeness, [R8] optimality. Your are required to clearly define:\n",
    "# [R8] How the problem was modeled\n",
    "# [R9] Implementation specifics and restrictions\n",
    "\n",
    "# 2. Problem\n",
    "# Pac-man is one of the most popular Arcade games, still played nowadays. In the game, there is a maze where Pac-man\n",
    "# has to act to collect as many pieces as possible without being caught by one of the ghosts. The maze is defined in\n",
    "# terms of a grid, as presented in Figure 1. The black areas are non-traversable walls, the grey path represents elements\n",
    "# that should be caught by the agent, and the white areas are traversable areas. Your group should define additional\n",
    "# elements, such as:\n",
    "\n",
    "# [R10] The size and shape of the maze\n",
    "# [R11] A final goal position\n",
    "# [R12] The static positions of 3 Ghosts in the scene (the positions do not change during the game)\n",
    "# [R13] Pac-man's initial position\n",
    "\n",
    "# To solve the problem, you have to specify:\n",
    "\n",
    "# [R14] The state representation\n",
    "# [R15] The set of actions\n",
    "# [R16] The objective state test\n",
    "# [R17] The cost of the path (g(x))\n",
    "# [R18] The heuristics used\n",
    "\n",
    "# The system must be evaluated according to the quality of the solutions found and a critical evaluation is expected on\n",
    "# the relationship between adopted parameters x solution performance. Graphs and tables representing the evolution of\n",
    "# the solutions are expected. Additional comparisons with the literature are welcome, although they are not mandatory.\n",
    "# To evaluate the results you might change the following elements:\n",
    "\n",
    "# [R19] Pac-man's initial position\n",
    "# [R20] Goal position\n",
    "# [R21] State discretization (maze size and configuration)\n",
    "# [R22] Ghosts' position\n",
    "\n",
    "# [R23] It is important to remember that we will not perform an online search. As the problem is completely observable and\n",
    "# deterministic, Pac-man is going to reason about the solution before actually adopting it.\n",
    "\n",
    "# CHAPTER 2: MODELLING PROPOSAL\n",
    "\n",
    "# Chapter 2.1 [R4] How the Problem was modelled?\n",
    "# [R4.1] Artificial Intelligence in Pacman\n",
    "#        Class material offered in the course \"Artificial Intelligence (2019 Spring) of NTU\"\n",
    "#        https://github.com/andi611/Pacman-With-AI-Python\n",
    "#\n",
    "# [R4.2] Python implementation of algorithms from Russell And Norvig's \"Artificial Intelligence - A Modern Approach\"\n",
    "#        https://github.com/aimacode/aima-python\n",
    "#\n",
    "# [R4.3] This is our Project Repository\n",
    "#      https://github.com/edbkei/MO416AI\n",
    "#      Our repository is Prototype3\n",
    "#\n",
    "# [R4.4] Our command line has been designed to execute various pacman scenarious, inherited from [R4.1]\n",
    "#        !python pacman.py -l layoutMO416b -p SearchAgent -a fn=<fn> -z <z>\n",
    "#        -l layout parameter. We use only the layoutMO416b\n",
    "#        -p agent parameter. We use only SearchAgent\n",
    "#        -a search method. We use dfs (depth-first search ), bfs (), ucs (uniform cost search), bfs (breadth-first search), \n",
    "#                          astar (heuristic A*)\n",
    "#        -z zoom. Numberic value (0.1..0.9)\n",
    "#\n",
    "# [R4.5] Conversion from Python 2.7 to Python 3.4 of [R4.1] to [R4.3]\n",
    "#\n",
    "# [R4.6] Customization from [R4.1] to [R4.3]\n",
    "#        [R10] - Maze is represented by the file layoutMO416b located at ../MO416AI/Prototype3/layout\n",
    "#                based on automatic generation of https://shaunlebron.github.io/pacman-mazegen/\n",
    "#                Command parameter -z to make zoom possible. This has been inherited from [R4.1]\n",
    "#        [R11] - Implemented as output in searchAgents.py\n",
    "#        [R12] - Pause dynamicity of ghost on script pacman.py\n",
    "#        [R13] - Implemented as output in searchAgents.py\n",
    "#        [R16] - Implemented as output in searchAgents.py\n",
    "#        [R17] - Implemented as output in searchAgents.py\n",
    "#        [R18] - [R4.1] implemented euclidean and Manhattan heuristic, but not used. For our project, we used Manhattan \n",
    "#                heuristic for A* (that originally used null heuristic) and gbfs, also. The original algorithm of A* considers\n",
    "#                the stop condition f(x)=g(x)+h(x), and we did the same algorithm as A* but with f(x) = h(x).\n",
    "#                We implemented in search2Agents.py and search2.py.\n",
    "\n"
   ]
  },
  {
   "cell_type": "code",
   "execution_count": 19,
   "metadata": {},
   "outputs": [
    {
     "data": {
      "text/plain": [
       "'C:\\\\Users\\\\Eduardo\\\\Documents\\\\2020\\\\UNICAMP\\\\MO416A_AI\\\\Project1\\\\Prototype3'"
      ]
     },
     "execution_count": 19,
     "metadata": {},
     "output_type": "execute_result"
    }
   ],
   "source": [
    "import os\n",
    "os.getcwd()"
   ]
  },
  {
   "cell_type": "code",
   "execution_count": 25,
   "metadata": {},
   "outputs": [
    {
     "name": "stdout",
     "output_type": "stream",
     "text": [
      "[SearchAgent] using function dfs without heuristic in searchAgents.py\n",
      "[SearchAgent] using problem type PositionSearchProblem\n",
      "[R13] Initial position of pacman is (23, 29)\n",
      "[R11] Final goal position is (1, 3)\n",
      "Number of foods is 1\n",
      "[R16] has the game food? True\n",
      "[R17] Path found with total cost g(x) of 72 in 0.00897669792175293s\n",
      "Search nodes expanded: 79\n",
      "Pacman died! Score: -562\n",
      "Average Score: -562.0\n",
      "Scores:        -562.0\n",
      "Win Rate:      0/1 (0.00)\n",
      "Record:        Loss\n"
     ]
    }
   ],
   "source": [
    "# [R1.1] Show dfs (depth first search) method.\n",
    "!python pacman.py -l layoutMO416b -p SearchAgent -a fn=dfs -z .6"
   ]
  },
  {
   "cell_type": "code",
   "execution_count": 23,
   "metadata": {},
   "outputs": [
    {
     "name": "stdout",
     "output_type": "stream",
     "text": [
      "[SearchAgent] using function bfs without heuristic in searchAgents.py\n",
      "[SearchAgent] using problem type PositionSearchProblem\n",
      "[R13] Initial position of pacman is (23, 29)\n",
      "[R11] Final goal position is (1, 3)\n",
      "Number of foods is 1\n",
      "[R16] has the game food? True\n",
      "[R17] Path found with total cost g(x) of 48 in 0.05684661865234375s\n",
      "Search nodes expanded: 336\n",
      "Pacman emerges victorious! Score: 462\n",
      "Average Score: 462.0\n",
      "Scores:        462.0\n",
      "Win Rate:      1/1 (1.00)\n",
      "Record:        Win\n"
     ]
    }
   ],
   "source": [
    "# [R1.2] Show bfs (breadth first search) method.\n",
    "!python pacman.py -l layoutMO416b -p SearchAgent -a fn=bfs -z .6"
   ]
  },
  {
   "cell_type": "code",
   "execution_count": 1,
   "metadata": {},
   "outputs": [
    {
     "name": "stdout",
     "output_type": "stream",
     "text": [
      "[Search2Agent] using function astar and [R18] heuristic Manhattan\n",
      "[Search2Agent] using problem type PositionSearchProblem2\n",
      "[R13] Initial position of pacman is (23, 29)\n",
      "[R11] Final goal position is (1, 3)\n",
      "Number of foods is 1\n",
      "[R16] has the game food? True\n",
      "[R17] Path found with total cost g(x) of 48 in 0.03291058540344238s\n",
      "Search nodes expanded: 202\n",
      "Pacman emerges victorious! Score: 462\n",
      "Average Score: 462.0\n",
      "Scores:        462.0\n",
      "Win Rate:      1/1 (1.00)\n",
      "Record:        Win\n"
     ]
    }
   ],
   "source": [
    "# [R2.1] Show A* and heuristic method.\n",
    "!python pacman.py -l layoutMO416b -p Search2Agent -a fn=astar -z .6"
   ]
  },
  {
   "cell_type": "code",
   "execution_count": 2,
   "metadata": {},
   "outputs": [
    {
     "name": "stdout",
     "output_type": "stream",
     "text": [
      "[Search2Agent] using function gbfs and [R18] heuristic Manhattan\n",
      "[Search2Agent] using problem type PositionSearchProblem2\n",
      "[R13] Initial position of pacman is (23, 29)\n",
      "[R11] Final goal position is (1, 3)\n",
      "Number of foods is 1\n",
      "[R16] has the game food? True\n",
      "[R17] Path found with total cost g(x) of 52 in 0.003988742828369141s\n",
      "Search nodes expanded: 61\n",
      "Pacman emerges victorious! Score: 458\n",
      "Average Score: 458.0\n",
      "Scores:        458.0\n",
      "Win Rate:      1/1 (1.00)\n",
      "Record:        Win\n"
     ]
    }
   ],
   "source": [
    "# [R2.2] Show gbfs (greedy best first search) and heuristic method.\n",
    "!python pacman.py -l layoutMO416b -p Search2Agent -a fn=gbfs -z .6"
   ]
  },
  {
   "cell_type": "code",
   "execution_count": null,
   "metadata": {},
   "outputs": [],
   "source": []
  }
 ],
 "metadata": {
  "kernelspec": {
   "display_name": "Python 3",
   "language": "python",
   "name": "python3"
  },
  "language_info": {
   "codemirror_mode": {
    "name": "ipython",
    "version": 3
   },
   "file_extension": ".py",
   "mimetype": "text/x-python",
   "name": "python",
   "nbconvert_exporter": "python",
   "pygments_lexer": "ipython3",
   "version": "3.7.3"
  }
 },
 "nbformat": 4,
 "nbformat_minor": 4
}
